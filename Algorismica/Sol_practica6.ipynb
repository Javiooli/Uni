{
 "cells": [
  {
   "cell_type": "markdown",
   "metadata": {
    "id": "s2JP26Ddif3X"
   },
   "source": [
    "3.6 Aritmètica Modular"
   ]
  },
  {
   "cell_type": "code",
   "execution_count": 1,
   "metadata": {
    "id": "lIW9xKnKijVW"
   },
   "outputs": [],
   "source": [
    "def validar_NIF(cadenaNIF):\n",
    "    lletraNIF = {0:\"T\",1:\"R\",2:\"W\",3:\"A\",4:\"G\",5:\"M\",6:\"Y\",7:\"F\",8:\"P\",9:\"D\",10:\"X\",11:\"B\",12:\"N\",13:\"J\",14:\"Z\",15:\"S\",16:\"Q\",17:\"V\",18:\"H\",19:\"L\",20:\"C\",21:\"K\",22:\"E\"}\n",
    "    lletra = cadenaNIF[8] #cadenaNIF[8]\n",
    "    cadenaNIF = int(cadenaNIF[:-1]) % 23\n",
    "    if lletraNIF[cadenaNIF] == lletra:\n",
    "      es_correcte = True\n",
    "    else:\n",
    "      es_correcte = False\n",
    "    return es_correcte"
   ]
  },
  {
   "cell_type": "code",
   "execution_count": 2,
   "metadata": {
    "id": "UrqGFPH4ijbm"
   },
   "outputs": [],
   "source": [
    "def conversio_fulla_calcul(num):\n",
    "    columna2 = []\n",
    "    while num > 0:\n",
    "        residu = (num-1) % 26\n",
    "        num = (num-1) // 26\n",
    "        columna2.append(chr(65 + residu))\n",
    "    columna = \"\".join(columna2)\n",
    "    return columna[::-1]"
   ]
  },
  {
   "cell_type": "markdown",
   "metadata": {
    "id": "OM3XC7TFjQWz"
   },
   "source": [
    "3.8 Primeritat"
   ]
  },
  {
   "cell_type": "code",
   "execution_count": 3,
   "metadata": {
    "id": "ImQNC4y9jh_r"
   },
   "outputs": [],
   "source": [
    "from math import log, sqrt\n",
    "\n",
    "def eratostenes(n): \n",
    "    sieve = [True for j in range(2,n+1)]\n",
    "    for j in range(2,int(sqrt(n))+1):\n",
    "        i = j-2\n",
    "        if sieve[i]:\n",
    "            for k in range(j*j,n+1,j):\n",
    "                sieve[k-2] = False\n",
    "    llista_primers = [j for j in range(2,n+1) if sieve[j-2]]\n",
    "    return llista_primers"
   ]
  },
  {
   "cell_type": "code",
   "execution_count": 4,
   "metadata": {
    "id": "v8E0LibBjiD-"
   },
   "outputs": [],
   "source": [
    "def primer(n):\n",
    "    if n > 6:\n",
    "        x = n*log(n*log(n))\n",
    "    else:\n",
    "        x = n*50\n",
    "    sol = eratostenes(x)\n",
    "    return sol[n-1]"
   ]
  },
  {
   "cell_type": "code",
   "execution_count": 5,
   "metadata": {
    "id": "GjOKC45ll7Y4"
   },
   "outputs": [],
   "source": [
    "def factor_mes_gran(n):\n",
    "    factor = 2\n",
    "    while n > 1:\n",
    "        if not n % factor:\n",
    "            n /= factor\n",
    "            factor -= 1\n",
    "        factor += 1\n",
    "    return factor"
   ]
  },
  {
   "cell_type": "markdown",
   "metadata": {
    "id": "kg4w0EUamx4E"
   },
   "source": [
    "3.9 Teorema de Fermat"
   ]
  },
  {
   "cell_type": "code",
   "execution_count": 6,
   "metadata": {
    "id": "kQozqzLnm2A_"
   },
   "outputs": [],
   "source": [
    "from random import randint\n",
    "import math\n",
    "\n",
    "def fermat(num, k):\n",
    "    if num == 1:\n",
    "        return False\n",
    "    for x in range(k):\n",
    "        val = randint(1, num-1)\n",
    "        if pow(val, num-1, num) != 1:\n",
    "            return False\n",
    "    return True\n",
    "\n",
    "def generate_prime(n):\n",
    "    found_prime = False\n",
    "    while not found_prime:\n",
    "        p = randint(2**(n-1),2**n)\n",
    "        if fermat(p,20):\n",
    "            return p"
   ]
  },
  {
   "cell_type": "code",
   "execution_count": 12,
   "metadata": {
    "id": "_hNfnblFm2PQ"
   },
   "outputs": [
    {
     "name": "stdout",
     "output_type": "stream",
     "text": [
      "[]\n"
     ]
    }
   ],
   "source": [
    "def primers_Wieferich(n=5000):\n",
    "    llista_primers = eratostenes(n)\n",
    "    wieferichs = [num for num in llista_primers if  num == 1]\n",
    "    return wieferichs\n",
    "\n",
    "print(primers_Wieferich(n = 5000))"
   ]
  },
  {
   "cell_type": "code",
   "execution_count": 13,
   "metadata": {
    "id": "8T1yVb2qpgd1"
   },
   "outputs": [],
   "source": [
    "import math\n",
    "\n",
    "def factorp(N):\n",
    "    if N < 2: return True\n",
    "    A = [i for i in range(2, int(sqrt(N)) + 1)]\n",
    "    Trobat = False\n",
    "    while len(A)>0 and A[0] <= sqrt(N) and not(Trobat):\n",
    "        if N % A[i] == 0:\n",
    "            Trobat = True\n",
    "        else:\n",
    "            i = 1\n",
    "            while i < len(A):\n",
    "                if A[i] % A[0] == 0:\n",
    "                    del(A[i])\n",
    "                i += 1\n",
    "            del(A[0])\n",
    "    return not Trobat\n",
    "\n",
    "def factortp(N, a=[2, 3, 5]):\n",
    "    if N == 1 or N in a: return True\n",
    "    i = 0\n",
    "    es_primer = False\n",
    "    while i < len(a) and a[i] < N and pow(a[i], N-1, N) == 1:\n",
    "        i += 1\n",
    "    if i == len(a):\n",
    "        es_primer = True\n",
    "    return es_primer"
   ]
  },
  {
   "cell_type": "code",
   "execution_count": 14,
   "metadata": {},
   "outputs": [
    {
     "ename": "UnboundLocalError",
     "evalue": "local variable 'i' referenced before assignment",
     "output_type": "error",
     "traceback": [
      "\u001b[1;31m---------------------------------------------------------------------------\u001b[0m",
      "\u001b[1;31mUnboundLocalError\u001b[0m                         Traceback (most recent call last)",
      "\u001b[1;32m<ipython-input-14-c18bcb69342c>\u001b[0m in \u001b[0;36m<module>\u001b[1;34m\u001b[0m\n\u001b[1;32m----> 1\u001b[1;33m \u001b[0mfactorp\u001b[0m\u001b[1;33m(\u001b[0m\u001b[1;36m54\u001b[0m\u001b[1;33m)\u001b[0m\u001b[1;33m\u001b[0m\u001b[1;33m\u001b[0m\u001b[0m\n\u001b[0m",
      "\u001b[1;32m<ipython-input-13-480a9c387238>\u001b[0m in \u001b[0;36mfactorp\u001b[1;34m(N)\u001b[0m\n\u001b[0;32m      6\u001b[0m     \u001b[0mTrobat\u001b[0m \u001b[1;33m=\u001b[0m \u001b[1;32mFalse\u001b[0m\u001b[1;33m\u001b[0m\u001b[1;33m\u001b[0m\u001b[0m\n\u001b[0;32m      7\u001b[0m     \u001b[1;32mwhile\u001b[0m \u001b[0mlen\u001b[0m\u001b[1;33m(\u001b[0m\u001b[0mA\u001b[0m\u001b[1;33m)\u001b[0m\u001b[1;33m>\u001b[0m\u001b[1;36m0\u001b[0m \u001b[1;32mand\u001b[0m \u001b[0mA\u001b[0m\u001b[1;33m[\u001b[0m\u001b[1;36m0\u001b[0m\u001b[1;33m]\u001b[0m \u001b[1;33m<=\u001b[0m \u001b[0msqrt\u001b[0m\u001b[1;33m(\u001b[0m\u001b[0mN\u001b[0m\u001b[1;33m)\u001b[0m \u001b[1;32mand\u001b[0m \u001b[1;32mnot\u001b[0m\u001b[1;33m(\u001b[0m\u001b[0mTrobat\u001b[0m\u001b[1;33m)\u001b[0m\u001b[1;33m:\u001b[0m\u001b[1;33m\u001b[0m\u001b[1;33m\u001b[0m\u001b[0m\n\u001b[1;32m----> 8\u001b[1;33m         \u001b[1;32mif\u001b[0m \u001b[0mN\u001b[0m \u001b[1;33m%\u001b[0m \u001b[0mA\u001b[0m\u001b[1;33m[\u001b[0m\u001b[0mi\u001b[0m\u001b[1;33m]\u001b[0m \u001b[1;33m==\u001b[0m \u001b[1;36m0\u001b[0m\u001b[1;33m:\u001b[0m\u001b[1;33m\u001b[0m\u001b[1;33m\u001b[0m\u001b[0m\n\u001b[0m\u001b[0;32m      9\u001b[0m             \u001b[0mTrobat\u001b[0m \u001b[1;33m=\u001b[0m \u001b[1;32mTrue\u001b[0m\u001b[1;33m\u001b[0m\u001b[1;33m\u001b[0m\u001b[0m\n\u001b[0;32m     10\u001b[0m         \u001b[1;32melse\u001b[0m\u001b[1;33m:\u001b[0m\u001b[1;33m\u001b[0m\u001b[1;33m\u001b[0m\u001b[0m\n",
      "\u001b[1;31mUnboundLocalError\u001b[0m: local variable 'i' referenced before assignment"
     ]
    }
   ],
   "source": [
    "factorp(54)"
   ]
  },
  {
   "cell_type": "code",
   "execution_count": null,
   "metadata": {},
   "outputs": [],
   "source": []
  }
 ],
 "metadata": {
  "colab": {
   "collapsed_sections": [],
   "name": "Sol_practica6.ipynb",
   "provenance": []
  },
  "interpreter": {
   "hash": "fac30a1c78bd60a5bc35902c3ce82f05d0005642fbcc5e5c43466c8abc2de7a4"
  },
  "kernelspec": {
   "display_name": "Python 3",
   "language": "python",
   "name": "python3"
  },
  "language_info": {
   "codemirror_mode": {
    "name": "ipython",
    "version": 3
   },
   "file_extension": ".py",
   "mimetype": "text/x-python",
   "name": "python",
   "nbconvert_exporter": "python",
   "pygments_lexer": "ipython3",
   "version": "3.8.8"
  }
 },
 "nbformat": 4,
 "nbformat_minor": 1
}
