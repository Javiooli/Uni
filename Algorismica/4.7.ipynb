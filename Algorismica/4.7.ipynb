{
 "cells": [
  {
   "cell_type": "markdown",
   "metadata": {
    "id": "Wwhw_mq0ZtJB"
   },
   "source": [
    "# Capítol 4 - Algorismes i Text"
   ]
  },
  {
   "cell_type": "markdown",
   "metadata": {
    "id": "i1CEFICYZtJO"
   },
   "source": [
    "### 4.7 Subcadena més llarga sense cap caràcter repetit"
   ]
  },
  {
   "cell_type": "code",
   "execution_count": 1,
   "metadata": {
    "id": "i2meRnZHZtJO"
   },
   "outputs": [],
   "source": [
    "def subcadena_mes_llarga(cadena):\n",
    "    llista = []\n",
    "    subcadena = ''\n",
    "    subcadenaTemp = ''\n",
    "    for i in range(len(cadena)):\n",
    "        char = cadena[i]\n",
    "        if char in llista:\n",
    "            subcadenaTemp = subcadenaTemp[llista.index(char)+1:]\n",
    "            llista = llista[llista.index(char)+1:]\n",
    "        subcadenaTemp += char\n",
    "        llista.append(char)\n",
    "        if len(subcadenaTemp) > len(subcadena):\n",
    "            subcadena = subcadenaTemp\n",
    "    return subcadena"
   ]
  },
  {
   "cell_type": "code",
   "execution_count": 2,
   "metadata": {
    "id": "ROtgFUKbZtJO"
   },
   "outputs": [],
   "source": [
    "assert subcadena_mes_llarga('lacadenamesllarga') == 'namesl'\n",
    "assert subcadena_mes_llarga('mesllarga') == 'mesl'\n",
    "assert subcadena_mes_llarga('aaa') ==  'a'"
   ]
  }
 ],
 "metadata": {
  "colab": {
   "collapsed_sections": [],
   "name": "4.7.ipynb",
   "provenance": []
  },
  "kernelspec": {
   "display_name": "Python 3",
   "language": "python",
   "name": "python3"
  },
  "language_info": {
   "codemirror_mode": {
    "name": "ipython",
    "version": 3
   },
   "file_extension": ".py",
   "mimetype": "text/x-python",
   "name": "python",
   "nbconvert_exporter": "python",
   "pygments_lexer": "ipython3",
   "version": "3.8.8"
  }
 },
 "nbformat": 4,
 "nbformat_minor": 1
}
