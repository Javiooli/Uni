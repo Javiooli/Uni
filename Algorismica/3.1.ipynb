{
 "cells": [
  {
   "cell_type": "markdown",
   "metadata": {
    "id": "KB3KAlcFUTai"
   },
   "source": [
    "# Capítol 3 - Algorismes i Nombres"
   ]
  },
  {
   "cell_type": "markdown",
   "metadata": {
    "id": "lESOpOrkUTak"
   },
   "source": [
    "### 3.1 Divisió entera"
   ]
  },
  {
   "cell_type": "code",
   "execution_count": 2,
   "metadata": {
    "id": "Qym49fpTUTal"
   },
   "outputs": [],
   "source": [
    "def divisio_entera(dividend, divisor):  \n",
    "    i = 0\n",
    "    quocient = 0\n",
    "    while (dividend >= divisor):\n",
    "        quocient += 1\n",
    "        dividend -= divisor\n",
    "    return quocient"
   ]
  },
  {
   "cell_type": "code",
   "execution_count": 3,
   "metadata": {
    "id": "q68LWvO4UTam"
   },
   "outputs": [],
   "source": [
    "assert divisio_entera(10,2) == 5\n",
    "assert divisio_entera(9,2) == 4"
   ]
  }
 ],
 "metadata": {
  "colab": {
   "collapsed_sections": [],
   "name": "3.1.ipynb",
   "provenance": []
  },
  "interpreter": {
   "hash": "fac30a1c78bd60a5bc35902c3ce82f05d0005642fbcc5e5c43466c8abc2de7a4"
  },
  "kernelspec": {
   "display_name": "Python 3.8.8 64-bit ('base': conda)",
   "name": "python3"
  },
  "language_info": {
   "codemirror_mode": {
    "name": "ipython",
    "version": 3
   },
   "file_extension": ".py",
   "mimetype": "text/x-python",
   "name": "python",
   "nbconvert_exporter": "python",
   "pygments_lexer": "ipython3",
   "version": "3.8.8"
  }
 },
 "nbformat": 4,
 "nbformat_minor": 1
}
