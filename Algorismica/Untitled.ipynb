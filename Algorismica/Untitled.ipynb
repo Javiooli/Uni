{
 "cells": [
  {
   "cell_type": "code",
   "execution_count": 26,
   "id": "beb7b434",
   "metadata": {},
   "outputs": [
    {
     "name": "stdout",
     "output_type": "stream",
     "text": [
      "0 : Moving disk 1 from A to B\n",
      "1 : Moving disk 2 from A to C\n",
      "2 : Moving disk 1 from B to C\n",
      "3 : Moving disk 3 from A to B\n",
      "4 : Moving disk 1 from C to A\n",
      "5 : Moving disk 2 from C to B\n",
      "6 : Moving disk 1 from A to B\n",
      "7 : Moving disk 4 from A to C\n",
      "8 : Moving disk 1 from B to C\n",
      "9 : Moving disk 2 from B to A\n",
      "10 : Moving disk 1 from C to A\n",
      "11 : Moving disk 3 from B to C\n",
      "12 : Moving disk 1 from A to B\n",
      "13 : Moving disk 2 from A to C\n",
      "14 : Moving disk 1 from B to C\n",
      "15 : Moving disk 5 from A to B\n",
      "16 : Moving disk 1 from C to A\n",
      "17 : Moving disk 2 from C to B\n",
      "18 : Moving disk 1 from A to B\n",
      "19 : Moving disk 3 from C to A\n",
      "20 : Moving disk 1 from B to C\n",
      "21 : Moving disk 2 from B to A\n",
      "22 : Moving disk 1 from C to A\n",
      "23 : Moving disk 4 from C to B\n",
      "24 : Moving disk 1 from A to B\n",
      "25 : Moving disk 2 from A to C\n",
      "26 : Moving disk 1 from B to C\n",
      "27 : Moving disk 3 from A to B\n",
      "28 : Moving disk 1 from C to A\n",
      "29 : Moving disk 2 from C to B\n",
      "30 : Moving disk 1 from A to B\n",
      "31 : Moving disk 6 from A to C\n",
      "32 : Moving disk 1 from B to C\n",
      "33 : Moving disk 2 from B to A\n",
      "34 : Moving disk 1 from C to A\n",
      "35 : Moving disk 3 from B to C\n",
      "36 : Moving disk 1 from A to B\n",
      "37 : Moving disk 2 from A to C\n",
      "38 : Moving disk 1 from B to C\n",
      "39 : Moving disk 4 from B to A\n",
      "40 : Moving disk 1 from C to A\n",
      "41 : Moving disk 2 from C to B\n",
      "42 : Moving disk 1 from A to B\n",
      "43 : Moving disk 3 from C to A\n",
      "44 : Moving disk 1 from B to C\n",
      "45 : Moving disk 2 from B to A\n",
      "46 : Moving disk 1 from C to A\n",
      "47 : Moving disk 5 from B to C\n",
      "48 : Moving disk 1 from A to B\n",
      "49 : Moving disk 2 from A to C\n",
      "50 : Moving disk 1 from B to C\n",
      "51 : Moving disk 3 from A to B\n",
      "52 : Moving disk 1 from C to A\n",
      "53 : Moving disk 2 from C to B\n",
      "54 : Moving disk 1 from A to B\n",
      "55 : Moving disk 4 from A to C\n",
      "56 : Moving disk 1 from B to C\n",
      "57 : Moving disk 2 from B to A\n",
      "58 : Moving disk 1 from C to A\n",
      "59 : Moving disk 3 from B to C\n",
      "60 : Moving disk 1 from A to B\n",
      "61 : Moving disk 2 from A to C\n",
      "62 : Moving disk 1 from B to C\n"
     ]
    },
    {
     "data": {
      "text/plain": [
       "63"
      ]
     },
     "execution_count": 26,
     "metadata": {},
     "output_type": "execute_result"
    }
   ],
   "source": [
    "count = 0\n",
    "def Hanoi(count , n , a, c, b):\n",
    "    if(n == 1):\n",
    "        print(count,\": Moving disk 1 from\",a,\"to\",c)\n",
    "        count+=1\n",
    "        return count\n",
    "    count = Hanoi(count , n-1, a, b, c)\n",
    "    print(count , \": Moving disk\",n,\"from\",a,\"to\",c)\n",
    "    count+=1\n",
    "    count = Hanoi(count , n-1, b, c, a)\n",
    "    return count\n",
    "\n",
    "Hanoi(count , 6, 'A', 'C', 'B')"
   ]
  },
  {
   "cell_type": "code",
   "execution_count": null,
   "id": "51507935",
   "metadata": {},
   "outputs": [],
   "source": []
  }
 ],
 "metadata": {
  "kernelspec": {
   "display_name": "Python 3",
   "language": "python",
   "name": "python3"
  },
  "language_info": {
   "codemirror_mode": {
    "name": "ipython",
    "version": 3
   },
   "file_extension": ".py",
   "mimetype": "text/x-python",
   "name": "python",
   "nbconvert_exporter": "python",
   "pygments_lexer": "ipython3",
   "version": "3.8.8"
  }
 },
 "nbformat": 4,
 "nbformat_minor": 5
}
