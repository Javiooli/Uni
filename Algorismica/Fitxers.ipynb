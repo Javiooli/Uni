{
 "cells": [
  {
   "cell_type": "markdown",
   "metadata": {
    "id": "jhyYWfylOqNz"
   },
   "source": [
    "\n",
    "<div id=\"capcalera\">\n",
    "<p><a href=\"https://colab.research.google.com/github/algorismica2019/problemes/blob/master/Fitxers.ipynb\"><img style=\"margin:-10px 10px 20px 0\" width=\"150px\" align=\"right\" src=\"https://raw.githubusercontent.com/algorismica2019/problemes/master/assets/colab-badge.png?raw=1\" alt=\"Obrir a Colab\" title=\"Obrir i executar a Google Colaboratory\"></a></p>\n",
    "<p style=\"clear:both\"><img align='left' width=\"300px\" style=\"padding-right:10px;float=left\" src=\"https://raw.githubusercontent.com/algorismica2019/problemes/master/assets/al-khwarizmi.png\">Aquest notebook forma part dels continguts teòrics dels problemes de l'assignatura d'<strong>Algorísmica</strong> del Grau d'Enginyeria Informàtica a la <a href=\"https://mat.ub.edu\">Facultat de Matemàtiques i Informàtica</a> de la <a href=\"https://www.ub.edu\">Universitat de Barcelona</a> impartida per <em>Jordi Vitrià</em> i <em>Mireia Ribera</em></p>\n",
    "\n",
    "<p>Els problemes s'ofereixen sota llicència <a href=\"https://creativecommons.org/licenses/by-nc-nd/3.0/us/legalcode\">CC-BY-NC-ND license</a>, i el codi sota <a href=\"https://opensource.org/licenses/MIT\">Llicència MIT</a>.</p>\n",
    "<p style=\"clear:both;text-align:center\">&lt; <a href=\"Control.ipynb\">Control</a> | <a href=\"Teoria.ipynb\">Explicacions teòriques</a> | <a href=\"LListatProblemes.ipynb\">LListat de problemes</a> | <a href=\"Complexitat.ipynb\">Complexitat</a> &gt; </p>\n",
    "\n",
    "</div>"
   ]
  },
  {
   "cell_type": "markdown",
   "metadata": {
    "id": "2aWMTBVMOqN5"
   },
   "source": [
    "# <span class=\"tema\">( Continguts teòrics)</span> Input/Output i fitxers"
   ]
  },
  {
   "cell_type": "markdown",
   "metadata": {
    "id": "fKw9IM1gOqN5"
   },
   "source": [
    "## Input: \n",
    "Per demanar dades a l’usuari s’usa input(‘Text a mostrar:’).\n",
    "\n",
    "### Documentació Python de referència\n",
    "\n",
    "- https://docs.python.org/3/library/functions.html?#input***"
   ]
  },
  {
   "cell_type": "code",
   "execution_count": null,
   "metadata": {
    "id": "sSekS6BzOqN6",
    "outputId": "19880a8f-f858-4373-f859-8f6a591822c6"
   },
   "outputs": [],
   "source": [
    "# Exemple\n",
    "nom = input(\"Digues-me el teu nom:\")\n",
    "print(nom)"
   ]
  },
  {
   "cell_type": "markdown",
   "metadata": {
    "id": "OoT1aTkkOqN7"
   },
   "source": [
    "Per defecte el valor entrat serà una cadena de caràcters. Si volem canviar el tipus caldrà indicar el tipus que volem usar."
   ]
  },
  {
   "cell_type": "code",
   "execution_count": null,
   "metadata": {
    "id": "-7dqxga1OqN8",
    "outputId": "6656d08c-dc03-48dc-a872-de0b8b8afaf6"
   },
   "outputs": [],
   "source": [
    "# Exemple\n",
    "edat = int(input(\"Digues-me la teva edat:\"))\n",
    "print(edat)\n",
    "print(type(edat))"
   ]
  },
  {
   "cell_type": "code",
   "execution_count": null,
   "metadata": {
    "id": "lx7xdZyxOqN8",
    "outputId": "dcb44725-943b-4144-f53b-31469a3a3518"
   },
   "outputs": [],
   "source": [
    "# Exemple 2\n",
    "descompte = float(input(\"Digues-me quin descompte vols per les rebaixes (per ex. 0.2 és un 20%) \"))\n",
    "print(descompte * 100, \"%\")\n",
    "print(type(descompte))"
   ]
  },
  {
   "cell_type": "code",
   "execution_count": null,
   "metadata": {
    "id": "V4EQg2ezOqN9",
    "outputId": "18d9a631-49aa-447d-a9b4-de2610c608b5"
   },
   "outputs": [],
   "source": [
    "# Exemple 3\n",
    "x = eval(input(\"Entra un valor\"))  \n",
    "#eval avalua l'entrada i fa que el tipus sigui l'adient\n",
    "print(x)\n",
    "type(x)"
   ]
  },
  {
   "cell_type": "markdown",
   "metadata": {
    "id": "ShG0f7gJOqN-"
   },
   "source": [
    "També podem demanar dues o més dades alhora amb una assignació múltiple i separant l'entrada amb una coma si usem <cite>eval</cite>. Però en aquest cas, si el que entrem és una paraula ha d'anar entre cometes, perquè altrament Python es pensa que és una variable."
   ]
  },
  {
   "cell_type": "code",
   "execution_count": null,
   "metadata": {
    "id": "rH3M79LtOqN-"
   },
   "outputs": [],
   "source": [
    "# Exemple\n",
    "nom, cognom1, cognom2 = eval(input(\"Digues-me el teu nom i cognoms \\\n",
    "separant-los per comes, per ex. 'Anna', 'Cendra', 'Fuster':\"))\n",
    "print(nom)\n",
    "print(cognom1)\n",
    "print(cognom2)"
   ]
  },
  {
   "cell_type": "markdown",
   "metadata": {
    "id": "JoS6-1sFOqN-"
   },
   "source": [
    "## Output: \n",
    "Per mostrar dades a l'usuari s'utilitza print(text o valors a mostrar).\n",
    "\n",
    "***Nota: pots trobar més informació sobre print a la documentació de Python: ***\n",
    "- Formatted string literals https://docs.python.org/3.6/reference/lexical_analysis.html#f-strings\n",
    "- Input and Output https://docs.python.org/3.6/tutorial/inputoutput.html"
   ]
  },
  {
   "cell_type": "code",
   "execution_count": null,
   "metadata": {
    "id": "r4contIDOqN_",
    "outputId": "a3d0f398-d558-4341-8b25-ebd2cacbbf32"
   },
   "outputs": [],
   "source": [
    "# Exemple\n",
    "nom = \"Jordi\"\n",
    "print(nom)"
   ]
  },
  {
   "cell_type": "markdown",
   "metadata": {
    "id": "Zsinv6PvOqN_"
   },
   "source": [
    "Amb Python 3 els arguments de print sempre han d'anar entre parèntesi, i poden consistir en literals (nombres o textos directament), variables o operacions"
   ]
  },
  {
   "cell_type": "code",
   "execution_count": null,
   "metadata": {
    "id": "2iEcnFzcOqN_",
    "outputId": "ab0d58b5-5352-4aff-c0eb-2ded80a7a45f"
   },
   "outputs": [],
   "source": [
    "# Exemple\n",
    "edat = 14\n",
    "nom = \"alex\"\n",
    "print(\"pere\")\n",
    "print(17)\n",
    "print(nom)\n",
    "print(edat)\n",
    "print(17 - 2)\n",
    "print(edat + 4)\n",
    "print(nom + nom)"
   ]
  },
  {
   "cell_type": "markdown",
   "metadata": {
    "id": "V3ZNbZnFOqOA"
   },
   "source": [
    "Cada \"print\" ocuparà una línia nova a la sortida, però podem ajuntar diversos valors en un únic print sense operar-los, amb una coma."
   ]
  },
  {
   "cell_type": "code",
   "execution_count": null,
   "metadata": {
    "id": "OHPir8VYOqOA",
    "outputId": "677f7555-fb39-4e26-c5b5-cee185845d87"
   },
   "outputs": [],
   "source": [
    "# Exemple\n",
    "edat = 14\n",
    "nom = \"alex\"\n",
    "print(nom, edat)"
   ]
  },
  {
   "cell_type": "markdown",
   "metadata": {
    "id": "SUeip2zNOqOA"
   },
   "source": [
    "També podem usar el print amb format **print(f...)** per incloure valors de variables dins una frase o provocar que el següent print es faci a la mateixa línia."
   ]
  },
  {
   "cell_type": "code",
   "execution_count": null,
   "metadata": {
    "id": "vm9AxP8TOqOB",
    "outputId": "f233953b-55fb-45c4-b790-a89983f35718"
   },
   "outputs": [],
   "source": [
    "# Exemple\n",
    "edat = 18\n",
    "nom = \"alex\"\n",
    "print(f\"L' {nom} té {edat} anys\")  # les variables les hem de posar entre {}\n",
    "print(f\"L'edat de l'{nom} és: \", end=\"\")  #amb end=\"\" fem que no salti línea\n",
    "print(edat)"
   ]
  },
  {
   "cell_type": "markdown",
   "metadata": {
    "id": "SD-gFqsIOqOB"
   },
   "source": [
    "### <span class=\"exercici\">Exercici 1: Fes una funció que et demani dades del teu esport, joc o app preferida i les mostri a la pantalla amb elegància. Les dades han d'incloure com a mínim un text, un nombre i un booleà.</span>"
   ]
  },
  {
   "cell_type": "code",
   "execution_count": null,
   "metadata": {},
   "outputs": [],
   "source": [
    "def gustos():\n",
    "    \n",
    "    categoria = str(input(\"Escull la categoria (esport, joc o app): \")).lower()\n",
    "    \n",
    "    if categoria == \"app\":\n",
    "        det = \"la teva\"\n",
    "        pref = \"preferida\"\n",
    "    else:\n",
    "        det = \"el teu\"\n",
    "        pref = \"preferit\"\n",
    "        \n",
    "    fraseNom = \"Com es diu \"+det+\" \"+categoria+\" \"+pref+\"? \"\n",
    "    if categoria == \"esport\": nom = input(fraseNom)\n",
    "    else: nom = input(fraseNom).capitalize()\n",
    "    \n",
    "    hores = int(input(\"Quantes hores hi dediques a la setmana? \"))//7\n",
    "    \n",
    "    satisfaccio = input(\"Diries que li dediques tot el temps que t'agradaria? \") == \"si\"\n",
    "    \n",
    "    if hores == 1: \n",
    "        count = \"\"\n",
    "        dia = \"hora diària\"\n",
    "    else:\n",
    "        count =\"unes \"\n",
    "        dia = \"hores diàries\"\n",
    "        \n",
    "    if satisfaccio: x = \"\"\n",
    "    else: x = \"no \"\n",
    "        \n",
    "    print(\"\\n\"+det.capitalize(), categoria, pref, \"és\", nom+\", li dediques\", count + str(hores), dia+\",\", x+\"dediques tot el temps que t'agradaria.\")\n",
    "    \n",
    "    \n",
    "gustos()"
   ]
  },
  {
   "cell_type": "markdown",
   "metadata": {
    "id": "_rzM6f6lOqOB"
   },
   "source": [
    "### <span class=\"exercici\">Exercici 2:Escriu una funció, ``magnitude``, que accepti dos punts i calculi la distància euclidiana entre ells, $d= \\sqrt{(x_2-x_1)^2+(y_2-y_1)^2}$</span>"
   ]
  },
  {
   "cell_type": "markdown",
   "metadata": {
    "id": "Kwg1x9roOqOC"
   },
   "source": [
    "## Fitxers\n",
    "\n",
    "Sovint les dades d´un algorisme es troben a memòria permanent en un fitxer. Des de Python podem llegir i escriure fitxers amb algunes instruccions particulars. En aquesta assignatura només veurem fitxers de text.\n",
    "\n",
    "### Obrir un fitxer i tancar-lo\n",
    "Per poder treballar amb un fitxer primer de tot cal obrir-lo\n",
    "\n",
    "**Atenció**: el fitxer ha de ser a la mateixa carpeta que la funció (que el notebook o que l'arxiu .py)\n",
    "\n",
    "```python\n",
    "elMeuFitxer = open(\"nom fitxer\", \"mode\") \n",
    "```\n",
    "a on nom fitxer és el nom del fitxer en el disc i mode pot ser r (read) per llegir, w (write) per escriure [si no hi ha cap fitxer això el crea] o altres que no tractarem.\n",
    "\n",
    "Per exemple:\n",
    "```python\n",
    "elMeuFitxer = open(\"prova.txt\", r) \n",
    "```\n",
    "obre el fitxer prova.txt en mode lectura (només podrem llegir, no escriure)\n",
    "\n",
    "Hem de pensar sempre a tancar els fitxers un cop oberts perquè altrament es podrien produir resultats inesperats a l´hora de fer altres entrades o sortides o podriem tenir problemes de memòria.\n",
    "\n",
    "```python\n",
    "elMeuFitxer.close()\n",
    "```\n",
    "\n",
    "### Escriure en un fitxer\n",
    "\n",
    "Un cop tinguem el fitxer obert ja podem fer coses amb ell. Per ex:\n",
    "\n",
    "```python\n",
    "fitxer = open(\"fitxerprova.txt\", \"w\") \n",
    " \n",
    "fitxer.write(\"Hola món\\n\")  # el caràcter \\n indica salt de línia\n",
    "fitxer.write(\"Aquest és el nostre fitxer de text nou\\n\") \n",
    "fitxer.write(\"i això és una línia nova\\n\") \n",
    "fitxer.write(\"I el fitxer s'ha creat.\\n\") \n",
    " \n",
    "fitxer.close() \n",
    "```\n",
    "\n",
    "I efectivament si mirem el fitxer amb un editor de text, a dintre hi veurem:\n",
    "```python\n",
    "Hola món\n",
    "Aquest és el nostre fitxer de text nou\n",
    "i això és una línia nova\n",
    "I el fitxer s´ha creat.\n",
    "```\n",
    "\n",
    "### Llegir d'un fitxer\n",
    "\n",
    "Quan llegim un fitxer python ens retorna un string amb el seu contingut\n",
    "\n",
    "```python\n",
    "file = open(\"fitxerprova.txt\", \"r\") \n",
    "print(file.read())\n",
    "file.close() \n",
    "```\n",
    "\n",
    "Que ens mostrarà:\n",
    "\n",
    "```python\n",
    "    Hola món\n",
    "    Aquest és el nostre fitxer de text nou\n",
    "    i això és una línia nova\n",
    "    I el fitxer s'ha creat.\n",
    "```\n",
    "\n",
    "\n",
    "o també podem optar a llegir-lo línia a línia\n",
    "```python\n",
    "file = open(\"fitxerprova.txt\", \"r\") \n",
    "print(file.readlines())\n",
    "file.close() \n",
    "```\n",
    "Que ens mostrarà\n",
    "```python\n",
    "['Hola món\\n', 'Aquest és el nostre fitxer de text nou\\n', 'i això és una línia nova\\n', 'I el fitxer s'ha creat.\\n']\n",
    "```\n",
    "\n",
    "Podem també recorrer un fitxer dins una iteració:\n",
    "```python\n",
    "file = open(\"fitxerprova.txt\", \"r\") \n",
    "for l in file:\n",
    "    print(l)\n",
    "file.close() \n",
    "```\n",
    "\n",
    "Que ens mostrarà\n",
    "```python\n",
    "Hola món\n",
    "\n",
    "Aquest és el nostre fitxer de text nou\n",
    "\n",
    "i això és una línia nova\n",
    "\n",
    "I el fitxer s'ha creat..\n",
    "```\n",
    "\n",
    "### Gestió elegant de fitxers\n",
    "Quan volem fer diverses accions de lectura sobre un fitxer podem usar l´ordre with...\n",
    "\n",
    "```python\n",
    "with open(\"fitxerprova.txt\") as file:  \n",
    "    data = file.read() \n",
    "    do something with data \n",
    "```\n",
    "\n",
    "amb el with obrim sempre en mode lectura, i no ens cal indicar el tancament\n",
    "\n",
    "És molt recomanable doncs usar aquesta sintaxi quan s´escau.\n"
   ]
  },
  {
   "cell_type": "markdown",
   "metadata": {
    "id": "FJlgI_4eOqOC"
   },
   "source": [
    "### <span class=\"exercici\">Exercici 3: Refès el programa del joc, esport o app preferida per a que llegeixi les dades d'un fitxer i escrigui el resultat en un altre fitxer. Recorda que les dades han d'incloure com a mínim un text, un nombre i un booleà.</span>"
   ]
  },
  {
   "cell_type": "code",
   "execution_count": 9,
   "metadata": {},
   "outputs": [
    {
     "name": "stdout",
     "output_type": "stream",
     "text": [
      "Escull la categoria (esport, joc o app): joc\n",
      "Com es diu el teu joc preferit? arma 3\n",
      "Quantes hores hi dediques a la setmana? 27\n",
      "Diries que li dediques tot el temps que t'agradaria? si\n",
      "\n",
      "----- | log 2 | 16/11/2021 12:51:29 -----\n",
      "\n",
      "El teu joc preferit és Arma 3.\n",
      "\n",
      "Li dediques unes 3 hores diàries.\n",
      "\n",
      "Dediques tot el temps que t'agradaria.\n",
      "\n",
      "\n",
      "\n"
     ]
    }
   ],
   "source": [
    "from datetime import datetime\n",
    "def gustosFitxer():\n",
    "    \n",
    "    categoria = str(input(\"Escull la categoria (esport, joc o app): \")).lower()\n",
    "    \n",
    "    if categoria == \"app\":\n",
    "        det = \"la teva\"\n",
    "        pref = \"preferida\"\n",
    "    else:\n",
    "        det = \"el teu\"\n",
    "        pref = \"preferit\"\n",
    "        \n",
    "    fraseNom = \"Com es diu \" + det + \" \" + categoria + \" \" + pref + \"? \"\n",
    "    if categoria == \"esport\": nom = input(fraseNom)\n",
    "    else: nom = input(fraseNom).capitalize()\n",
    "    \n",
    "    hores = int(input(\"Quantes hores hi dediques a la setmana? \")) // 7\n",
    "    \n",
    "    satisfaccio = input(\"Diries que li dediques tot el temps que t'agradaria? \") == \"si\"\n",
    "    \n",
    "    if hores == 1: \n",
    "        count = \"\"\n",
    "        dia = \"hora diària\"\n",
    "    else:\n",
    "        count =\"unes \"\n",
    "        dia = \"hores diàries\"\n",
    "        \n",
    "    if satisfaccio: x = \"Dediques \"\n",
    "    else: x = \"No dediques \"\n",
    "        \n",
    "    i = 0\n",
    "    \n",
    "    fitxer = open(\"fitxerprova.txt\",\"a\")\n",
    "    fitxer.close()\n",
    "        \n",
    "    with open(\"fitxerprova.txt\") as file:  \n",
    "        for line in file:\n",
    "            i += 1\n",
    "    \n",
    "    n = i//5 + 1\n",
    "        \n",
    "    fitxer = open(\"fitxerprova.txt\", \"a\")\n",
    "    \n",
    "    fitxer.write(\"----- log \"+str(n)+\" | \"+datetime.now().strftime(\"%d/%m/%Y %H:%M:%S\")+\" -----\\n\")\n",
    "    fitxer.write(det.capitalize() + \" \" + categoria + \" \" + pref + \" \" + \"és\" + \" \" + nom + \".\\n\")\n",
    "    fitxer.write(\"Li dediques\" + \" \" + count + str(hores) + \" \" + dia + \".\\n\") \n",
    "    fitxer.write(x + \"tot el temps que t'agradaria.\\n\")  \n",
    "    fitxer.write(\"\\n\")\n",
    "\n",
    "    fitxer.close()\n",
    "    \n",
    "    j = 0\n",
    "    \n",
    "    print(\"\")\n",
    "    file = open(\"fitxerprova.txt\", \"r\") \n",
    "    for l in file:\n",
    "        j += 1\n",
    "        if (j > i):\n",
    "            print(l)\n",
    "    file.close()     \n",
    "    \n",
    "gustosFitxer()"
   ]
  },
  {
   "cell_type": "code",
   "execution_count": null,
   "metadata": {
    "colab": {
     "base_uri": "https://localhost:8080/",
     "height": 17
    },
    "id": "X59eCNCDOqOC",
    "outputId": "62dffe8b-e7a3-48a5-b6d7-465bf8988e89"
   },
   "outputs": [],
   "source": [
    "# Executar aquesta cel.la per donar estil al notebook\n",
    "from IPython.core.display import HTML\n",
    "import requests\n",
    "style=requests.get('https://raw.githubusercontent.com/algorismica2019/problemes/master/assets/prova.css').text\n",
    "HTML('<style>{}</style>'.format(style))"
   ]
  },
  {
   "cell_type": "markdown",
   "metadata": {
    "id": "SxaQ8jdHOqOC"
   },
   "source": [
    "<div id=\"peu\">\n",
    "<p><a href=\"https://colab.research.google.com/github/algorismica2019/problemes/blob/master/Fitxers.ipynb\"><img style=\"margin:-10px 10px 20px 0\" width=\"150px\" align=\"right\" src=\"https://raw.githubusercontent.com/algorismica2019/problemes/master/assets/colab-badge.png?raw=1\" alt=\"Obrir a Colab\" title=\"Obrir i executar a Google Colaboratory\"></a></p>\n",
    "<p style=\"clear:both;text-align:center\">&lt; <a href=\"Control.ipynb\">Control</a> | <a href=\"Teoria.ipynb\">Explicacions teòriques</a> | <a href=\"LListatProblemes.ipynb\">LListat de problemes</a> | <a href=\"Complexitat.ipynb\">Complexitat</a> &gt; </p>\n",
    "</div>"
   ]
  }
 ],
 "metadata": {
  "colab": {
   "name": "Fitxers.ipynb",
   "provenance": []
  },
  "kernelspec": {
   "display_name": "Python 3 (ipykernel)",
   "language": "python",
   "name": "python3"
  },
  "language_info": {
   "codemirror_mode": {
    "name": "ipython",
    "version": 3
   },
   "file_extension": ".py",
   "mimetype": "text/x-python",
   "name": "python",
   "nbconvert_exporter": "python",
   "pygments_lexer": "ipython3",
   "version": "3.9.7"
  }
 },
 "nbformat": 4,
 "nbformat_minor": 1
}
