{
 "cells": [
  {
   "cell_type": "markdown",
   "metadata": {
    "id": "Tq8bG1MNUhzi"
   },
   "source": [
    "# Capítol 3 - Algorismes i Nombres"
   ]
  },
  {
   "cell_type": "markdown",
   "metadata": {
    "id": "C8F_8ek7Uhz2"
   },
   "source": [
    "### 3.11 Fibonacci"
   ]
  },
  {
   "cell_type": "code",
   "execution_count": 68,
   "metadata": {
    "colab": {
     "base_uri": "https://localhost:8080/"
    },
    "executionInfo": {
     "elapsed": 3195,
     "status": "ok",
     "timestamp": 1626976308826,
     "user": {
      "displayName": "Mireia Ribera",
      "photoUrl": "https://lh3.googleusercontent.com/a-/AOh14GjTqRZ7NouSDW4C_ulQ_avv4hjoIDwULH8pASHwl3s=s64",
      "userId": "13870616405792739474"
     },
     "user_tz": -120
    },
    "id": "3GMGbvGhUhz2",
    "outputId": "09f4904e-4096-4c78-8ab4-826add091095"
   },
   "outputs": [
    {
     "name": "stdout",
     "output_type": "stream",
     "text": [
      "2.63 µs ± 19.4 ns per loop (mean ± std. dev. of 7 runs, 100000 loops each)\n"
     ]
    }
   ],
   "source": [
    "def fibonacci_termes_parells(n = 4000000):\n",
    "    \"\"\"\n",
    "    Aquesta funció suma dels termes parells de Fibonacci.\n",
    "    \n",
    "    Parameters\n",
    "    ----------\n",
    "    n: int\n",
    "    \n",
    "    Returns\n",
    "    -------\n",
    "    suma: int\n",
    "    \"\"\"\n",
    "    a, b, suma = 0, 1, 0\n",
    "    \n",
    "    while b < n:\n",
    "        a, b = b, b + a\n",
    "        \n",
    "        if not a % 2:\n",
    "            suma += a\n",
    "\n",
    "    return suma\n",
    "\n",
    "%timeit fibonacci_termes_parells(4000000)"
   ]
  },
  {
   "cell_type": "code",
   "execution_count": 64,
   "metadata": {
    "id": "hCfQiKnIUhz3"
   },
   "outputs": [],
   "source": [
    "assert fibonacci_termes_parells(4000000) == 4613732"
   ]
  },
  {
   "cell_type": "markdown",
   "metadata": {
    "id": "c7eM0YCYUhz3"
   },
   "source": [
    "La complexitat de l'algorisme és O(log(n))\n",
    "\n"
   ]
  },
  {
   "cell_type": "code",
   "execution_count": 70,
   "metadata": {
    "id": "xvzLNQViUhz3"
   },
   "outputs": [
    {
     "name": "stdout",
     "output_type": "stream",
     "text": [
      "338 µs ± 3.78 µs per loop (mean ± std. dev. of 7 runs, 1000 loops each)\n"
     ]
    }
   ],
   "source": [
    "def fibonacci_multiples_3(n):\n",
    "    \"\"\"\n",
    "    Aquesta funció suma els n primers termes de Fibonacci que són múltiples de 3.\n",
    "    \n",
    "    Parameters\n",
    "    ----------\n",
    "    n: int\n",
    "    \n",
    "    Returns\n",
    "    -------\n",
    "    suma: int\n",
    "    \"\"\"\n",
    "    a, b, suma, i = 0, 1, 0, 0\n",
    "    \n",
    "    while i < n:\n",
    "        a, b = b, b + a\n",
    "        \n",
    "        if not a % 3:\n",
    "            suma += a\n",
    "            i += 1\n",
    "            \n",
    "    return suma\n",
    "\n",
    "%timeit fibonacci_multiples_3(400)"
   ]
  },
  {
   "cell_type": "code",
   "execution_count": 66,
   "metadata": {
    "id": "j0abtNbKUhz3"
   },
   "outputs": [],
   "source": [
    "assert fibonacci_multiples_3(10) == 119814915"
   ]
  },
  {
   "cell_type": "markdown",
   "metadata": {
    "id": "BzZuCJXEUhz3"
   },
   "source": [
    "La complexitat de l'algorisme és O(n):\n",
    "\n"
   ]
  },
  {
   "cell_type": "code",
   "execution_count": 91,
   "metadata": {
    "id": "dpaCwdGWUhz4"
   },
   "outputs": [
    {
     "name": "stdout",
     "output_type": "stream",
     "text": [
      "[161926, 207391]\n",
      "[206626, 265620]\n",
      "[0, 1, 1, 5, 23, 105, 479, 2185, 9967, 45465]\n"
     ]
    },
    {
     "data": {
      "text/plain": [
       "[0, 1, 1, 5, 23, 105, 479, 2185, 9967, 45465]"
      ]
     },
     "execution_count": 91,
     "metadata": {},
     "output_type": "execute_result"
    }
   ],
   "source": [
    "import numpy\n",
    "def fibonacci_matricial(N):\n",
    "    \"\"\"\n",
    "    Aquesta funció retorna els n primers termes de la sèrie \n",
    "    de Fibonnaci calculats de manera matricial.\n",
    "    \n",
    "    Parameters\n",
    "    ----------\n",
    "    N: int \n",
    "    \n",
    "    Returns\n",
    "    -------\n",
    "    serie: list\n",
    "    \"\"\"\n",
    "    serie = [0, 1]\n",
    "    matriu, result = [[1,1],[1,0]], [[1,1],[1,0]]\n",
    "    for i in range (N-2):\n",
    "        serie.append(result[0][1])\n",
    "        result[0][0] = (result[0][0]+result[0][1])*(matriu[0][0]+matriu[1][0])\n",
    "        result[0][1] = (result[0][0]+result[0][1])*(matriu[0][1]+matriu[1][1])\n",
    "        result[1][0] = (result[1][0]+result[1][1])*(matriu[1][0]+matriu[0][0])\n",
    "        result[1][1] = (result[1][1]+result[0][1])*(matriu[1][1]+matriu[1][0])\n",
    "    print(result[0])\n",
    "    print(result[1])\n",
    "    print(serie)\n",
    "    return serie\n",
    "\n",
    "fibonacci_matricial(10)"
   ]
  },
  {
   "cell_type": "code",
   "execution_count": null,
   "metadata": {
    "id": "ovP9c5AhUhz4"
   },
   "outputs": [],
   "source": [
    "assert fibonacci_matricial(10) == [0, 1, 1, 2, 3, 5, 8, 13, 21, 34]"
   ]
  },
  {
   "cell_type": "markdown",
   "metadata": {
    "id": "RJO78c4MUhz4"
   },
   "source": [
    "        \n",
    "La complexitat de l'algorisme és O( )."
   ]
  }
 ],
 "metadata": {
  "colab": {
   "collapsed_sections": [],
   "name": "3.11.ipynb",
   "provenance": []
  },
  "kernelspec": {
   "display_name": "Python 3",
   "language": "python",
   "name": "python3"
  },
  "language_info": {
   "codemirror_mode": {
    "name": "ipython",
    "version": 3
   },
   "file_extension": ".py",
   "mimetype": "text/x-python",
   "name": "python",
   "nbconvert_exporter": "python",
   "pygments_lexer": "ipython3",
   "version": "3.8.8"
  }
 },
 "nbformat": 4,
 "nbformat_minor": 1
}
