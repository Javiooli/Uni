{
 "cells": [
  {
   "cell_type": "markdown",
   "metadata": {
    "id": "Wwhw_mq0ZtJB"
   },
   "source": [
    "# Capítol 4 - Algorismes i Text"
   ]
  },
  {
   "cell_type": "markdown",
   "metadata": {
    "id": "8mOc5hGEZtJK"
   },
   "source": [
    "### 4.5 Levensthein"
   ]
  },
  {
   "cell_type": "code",
   "execution_count": 1,
   "metadata": {
    "id": "XeOUW_g2ZtJL"
   },
   "outputs": [],
   "source": [
    "def levensthein(patro, text, dlt = 2, insr = 2, subs = 1):\n",
    "    \"\"\"\n",
    "    Aquesta funció implementa l'algorisme de Levensthein.\n",
    "    \n",
    "    Parameters\n",
    "    ----------\n",
    "    patro: string\n",
    "    text: sting\n",
    "    \n",
    "    dlt: int (default)\n",
    "    insr: int (default)\n",
    "    subs: int (default)\n",
    "        Costos d'edició\n",
    "        \n",
    "    Returns\n",
    "    -------\n",
    "    minDistance: int\n",
    "    \"\"\"\n",
    "    x = len(text) + 1\n",
    "    y = len(patro) + 1\n",
    "    matriu = [[0 for i in range(x)] for j in range(y)]\n",
    "    for i in range(y):\n",
    "        matriu [i][0] = i\n",
    "    for j in range(x):\n",
    "        matriu [0][j] = 0\n",
    "        \n",
    "    for i in range(1, y):\n",
    "        for j in range(1, x):\n",
    "            if patro[i-1] == text[j-1]:\n",
    "                matriu [i][j] = min(\n",
    "                    (matriu[i-1][j]) + insr,\n",
    "                    (matriu[i-1][j-1]),\n",
    "                    (matriu[i][j-1]) + dlt)\n",
    "            else:\n",
    "                matriu [i][j] = min(\n",
    "                    (matriu[i-1][j]) + insr,\n",
    "                    (matriu[i-1][j-1]) + subs,\n",
    "                    (matriu[i][j-1]) + dlt)\n",
    "\n",
    "    return (min(matriu[y-1]))\n",
    "\n",
    "\n",
    "\n",
    "def dna(patro, fitxer = 'HUMAN-DNA.txt'):\n",
    "    \"\"\"\"\"\n",
    "    Aquesta funció aplica l'algorisme de Levensthein sobre una seqüència del dna per trobar diferents patrons.\n",
    "    \n",
    "    Parameters\n",
    "    ----------\n",
    "    patro: string\n",
    "    fitxer: string (default)\n",
    "    \n",
    "    Returns\n",
    "    -------\n",
    "    linia: int\n",
    "    distanciafinal: int\n",
    "    \"\"\"\n",
    "    distanciafinal = None\n",
    "    with open(fitxer) as file:  \n",
    "        data = file.readlines()\n",
    "        \n",
    "    for i in range(len(data)):\n",
    "        distancia = levensthein(patro, data[i])\n",
    "        if (not distanciafinal or distancia < distanciafinal):\n",
    "            linia = i+1\n",
    "            distanciafinal = distancia\n",
    "                \n",
    "    return linia, distanciafinal"
   ]
  },
  {
   "cell_type": "code",
   "execution_count": 2,
   "metadata": {
    "id": "zJxdjiMtZtJL"
   },
   "outputs": [],
   "source": [
    "assert dna('AGATACATTAGACAATAGAGATGTGGTC') == (32, 11)\n",
    "assert dna('GTCAGTCTGGCCTTGCCATTGGTGCCACCA') == (352, 11)\n",
    "assert dna('TACCGAGAAGCTGGATTACAGCATGTACCATCAT') == (233, 13)"
   ]
  }
 ],
 "metadata": {
  "colab": {
   "collapsed_sections": [],
   "name": "4.5.ipynb",
   "provenance": []
  },
  "kernelspec": {
   "display_name": "Python 3",
   "language": "python",
   "name": "python3"
  },
  "language_info": {
   "codemirror_mode": {
    "name": "ipython",
    "version": 3
   },
   "file_extension": ".py",
   "mimetype": "text/x-python",
   "name": "python",
   "nbconvert_exporter": "python",
   "pygments_lexer": "ipython3",
   "version": "3.8.8"
  }
 },
 "nbformat": 4,
 "nbformat_minor": 1
}
