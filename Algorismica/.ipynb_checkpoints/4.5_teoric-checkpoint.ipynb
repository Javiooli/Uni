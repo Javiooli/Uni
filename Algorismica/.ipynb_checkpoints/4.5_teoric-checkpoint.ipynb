{
 "cells": [
  {
   "cell_type": "markdown",
   "id": "c0be795b",
   "metadata": {},
   "source": [
    "# 4.5 Levenshtein bis"
   ]
  },
  {
   "cell_type": "markdown",
   "id": "32bd865a",
   "metadata": {},
   "source": [
    "## Problema: calcular el cost d'edició entre un patró i un text."
   ]
  },
  {
   "cell_type": "markdown",
   "id": "61393377",
   "metadata": {},
   "source": [
    "Suposem que estem fent un problema de Levenshtein clàssic on els costos de substitució, inserció i eliminació són tots iguals a 1. Volem comparar les paraules el patró 'VERVE' amb el text 'BARBER'. Tenim la següent taula:"
   ]
  },
  {
   "cell_type": "markdown",
   "id": "6d1c056b",
   "metadata": {},
   "source": [
    "|   | * | B | A | R | B | E | R |\n",
    "| :-: | :-: | :-: | :-: | :-: | :-: | :-: | :-:|\n",
    "| * | 0 | 1 | 2 | 3 | 4 | 5 | 6 |\n",
    "| **V** | 1 |   |   |   |   |   |   |\n",
    "| **E** | 2 |   |   |   |   |   |   |\n",
    "| **R** | 3 |   |   |   |   |   |   |\n",
    "| **V** | 4 |   |   |   |   |   |   |\n",
    "| **E** | 5 |   |   |   |   |   |   |"
   ]
  },
  {
   "cell_type": "markdown",
   "id": "4460251d",
   "metadata": {},
   "source": [
    "**Pregunta 1**. El patró i el text són intercanviables? Prova de fer la taula amb els seus rols intercanviats i observa si es fa el mateix tipus de canvis (per ex. insercions i eliminacions [deletions])\n",
    "\n",
    "Sí."
   ]
  },
  {
   "cell_type": "markdown",
   "id": "20063a73",
   "metadata": {},
   "source": [
    "**Pregunta 2**. Explica raonadament d'on surten els valors de la primera fila i de la primera columna. Explica el cas concret del valor 4 de la primera columna i quarta fila (al costat de la V). \n",
    "\n",
    "Els valors de la primera fila i la primera columna són els costos d'edició des d'una cadena buida. Per exemple el valor 4 de la primera columna i quarta fila és el cost d'inserir les 4 lletres, ja que partim d'una cadena buida."
   ]
  },
  {
   "cell_type": "markdown",
   "id": "59680d3e",
   "metadata": {},
   "source": [
    "Suposem que hem omplert la taula tal i com s'indica\n",
    "\n",
    "\n",
    "|   | * | B | A | R | B | E | R |\n",
    "| :-: | :-: | :-: | :-: | :-: | :-: | :-: | :-:|\n",
    "| * | 0 | 1 | 2 | 3 | 4 | 5 | 6 |\n",
    "| **V** | 1 | 1  | 2  | 3  | 4  | 5  | 6 |\n",
    "| **E** | 2 | 2 | 2 | 3 | 4 | **4** |   |\n",
    "| **R** | 3 |   |   |   |   |   |   |\n",
    "| **V** | 4 |   |   |   |   |   |   |\n",
    "| **E** | 5 |   |   |   |   |   |   |"
   ]
  },
  {
   "cell_type": "markdown",
   "id": "1f639826",
   "metadata": {},
   "source": [
    "**Pregunta 3**. Si ens parem a la casella assenyalada en negreta, quin és el text i quin el patró en aquest moment? Quina és la distància d'edició entre ells? Esmenta quines operacions (substitució, inserció, eliminació) has seguit per arribar a aquesta casella (si hi ha més d'una possibilitat, només cal que expliquis una). \n",
    "\n",
    "El text és BARBE i el patró és VE. La distància entre ells és de 4.\n",
    "\n",
    "Substituïm V per B (BE) -> +1\n",
    "\n",
    "Inserim A (BAE) -> +1\n",
    "\n",
    "Inserim R (BARE) -> +1\n",
    "\n",
    "Inserim B (BARBE) -> +1"
   ]
  },
  {
   "cell_type": "markdown",
   "id": "9abbb363",
   "metadata": {},
   "source": [
    "## Problema 2: calcular la distància entre un patró i el substring més semblant d'un text."
   ]
  },
  {
   "cell_type": "markdown",
   "id": "6989bd05",
   "metadata": {},
   "source": [
    "En aquest problema, no es penalitza moure el patró al llarg del text, ja que el substring pot estar situat en qualsevol posició. A més, treballarem amb els costos que us indica la pràctica, és a dir, les operacions de substitució i inserció costen 1, però l'eliminació costa 2. Suposa que volem comparar el patró 'VERVE' al text 'BARBER'. Per això, tenim la següent taula:"
   ]
  },
  {
   "cell_type": "markdown",
   "id": "bd54ce8d",
   "metadata": {},
   "source": [
    "|   | * | B | A | R | B | E | R |\n",
    "| :-: | :-: | :-: | :-: | :-: | :-: | :-: | :-:|\n",
    "| * | 0 | 0 | 0 | 0 | 0 | 0 | 0 |\n",
    "| **V** | 2 |   |   |   |   |   |   |\n",
    "| **E** | 4 |   |   |   |   |   |   |\n",
    "| **R** | 6 |   |   |   |   |   |   |\n",
    "| **V** | 8 |   |   |   |   |   |   |\n",
    "| **E** | 10 |   |   |   |   |   |   |"
   ]
  },
  {
   "cell_type": "markdown",
   "id": "531e5497",
   "metadata": {},
   "source": [
    "**Pregunta 4**. Explica raonadament d'on surten els valors de la primera fila i la primera columna.\n",
    "\n",
    "Els valors de la primera fila son tots 0 perquè considerem que el cost de desplaçar la cadena és nul.\n",
    "\n",
    "Els valors de la primera columna van de 2 en 2 perquè ara considerem que el cost d'eliminació és 2."
   ]
  },
  {
   "cell_type": "markdown",
   "id": "608ffcc6",
   "metadata": {},
   "source": [
    "Suposem que hem omplert la taula tal i com s'indica\n",
    "\n",
    "|   | * | B | A | R | B | E | R |\n",
    "| :-: | :-: | :-: | :-: | :-: | :-: | :-: | :-:|\n",
    "| * | 0 | 0 | 0 | 0 | 0 | 0 | 0 |\n",
    "| **V** | 2 | 2 | 1 | 1 | 1 | 1 | 1 |\n",
    "| **E** | 4 | 3 | 2 | 2 | 2 | 1 | 2 |\n",
    "| **R** |  |   |   |   |   |   |   |\n",
    "| **V** |  |   |   |   |   |   |   |\n",
    "| **E** |  |   |   |   |   |   |   |"
   ]
  },
  {
   "cell_type": "markdown",
   "id": "662f9ae4",
   "metadata": {},
   "source": [
    "**Pregunta 5.** Hem calculat ja diverses possibilitats i substrings del text amb part del patró. Quina és la distància mínima trobada entre el patró analitzat fins ara i el substring més semblant del text? Quin és aquest patró i el substring corresponent?\n",
    "\n",
    "La distància mínima entre el patró i el substring més semblant del text és de només 1.\n",
    "\n",
    "El patró és VER i el substring és BER. El cost és 1 perquè només substituïm la V per la B."
   ]
  }
 ],
 "metadata": {
  "kernelspec": {
   "display_name": "Python 3",
   "language": "python",
   "name": "python3"
  },
  "language_info": {
   "codemirror_mode": {
    "name": "ipython",
    "version": 3
   },
   "file_extension": ".py",
   "mimetype": "text/x-python",
   "name": "python",
   "nbconvert_exporter": "python",
   "pygments_lexer": "ipython3",
   "version": "3.8.8"
  }
 },
 "nbformat": 4,
 "nbformat_minor": 5
}
