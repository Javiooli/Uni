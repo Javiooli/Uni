{
 "cells": [
  {
   "cell_type": "markdown",
   "metadata": {
    "id": "Y4Syz3Z6njBa"
   },
   "source": [
    "# Capítol 5 - Dividir i Vèncer"
   ]
  },
  {
   "cell_type": "markdown",
   "metadata": {
    "id": "P-PUxj6unjBu"
   },
   "source": [
    "## 5.23 Sumatori parcial màxim"
   ]
  },
  {
   "cell_type": "code",
   "execution_count": 1,
   "metadata": {
    "id": "8mJch0LLnjBu"
   },
   "outputs": [],
   "source": [
    "# Solució dividir i vèncer\n",
    "def sumatori_parcial_divider_vencer(llista):\n",
    "    \"\"\"\n",
    "    Aquesta funció troba el sumatori parcial (dels enters consecutius a la llista) de valor màxim.\n",
    "    \n",
    "    Parameters\n",
    "    ----------\n",
    "    llista: list\n",
    "    \n",
    "    Returns\n",
    "    -------\n",
    "    max_sum: int\n",
    "    \"\"\"\n",
    "    acc_der = 0\n",
    "    max_der = 0\n",
    "    acc_izq = 0\n",
    "    max_izq = 0\n",
    "    \n",
    "    for i in range(0, len(llista)//2):\n",
    "        acc_der += llista[i]\n",
    "        if (acc_der < 0): acc_der = 0\n",
    "        max_der = max(max_der, acc_der, llista[i])\n",
    "    \n",
    "    for i in range (len(llista)//2 + 1, len(llista)):\n",
    "        acc_izq += llista[i]\n",
    "        if (acc_izq < 0): acc_izq = 0\n",
    "        max_izq = max(max_izq, acc_izq, llista[i])\n",
    "        \n",
    "    max_sum = max(max_der, max_izq, max_der + llista[len(llista)//2], max_izq + llista[len(llista)//2])\n",
    "    \n",
    "    return max_sum"
   ]
  },
  {
   "cell_type": "code",
   "execution_count": 2,
   "metadata": {
    "id": "zTn8TYvqnjBu"
   },
   "outputs": [],
   "source": [
    "assert sumatori_parcial_divider_vencer([-3, 2, -1, 9, 8 , -1, -1,-1, -105]) == 18"
   ]
  },
  {
   "cell_type": "code",
   "execution_count": 3,
   "metadata": {
    "id": "IuqoJXhlnjBu"
   },
   "outputs": [],
   "source": [
    "# Solució Kadane\n",
    "def sumatori_parcial_kadane(llista): \n",
    "    \"\"\"\n",
    "    Aquesta funció troba el sumatori parcial (dels enters consecutius a la llista) de valor màxim.\n",
    "    \n",
    "    Parameters\n",
    "    ----------\n",
    "    llista: list\n",
    "    \n",
    "    Returns\n",
    "    -------\n",
    "    max_sum: int\n",
    "    \"\"\"\n",
    "    curr_max = llista[0]\n",
    "    max_sum = llista[0]\n",
    "    for i in range(len(llista)):\n",
    "        if (curr_max < 0): curr_max = 0\n",
    "        curr_max += llista[i]\n",
    "        max_sum = max(max_sum, curr_max)\n",
    "    \n",
    "    return max_sum"
   ]
  },
  {
   "cell_type": "code",
   "execution_count": 4,
   "metadata": {
    "id": "QDlKd9rPnjBu"
   },
   "outputs": [],
   "source": [
    "assert sumatori_parcial_kadane([-3, 2, -1, 9, 8 , -1, -1,-1, -105]) == 18"
   ]
  }
 ],
 "metadata": {
  "colab": {
   "collapsed_sections": [],
   "name": "5.23.ipynb",
   "provenance": []
  },
  "kernelspec": {
   "display_name": "Python 3 (ipykernel)",
   "language": "python",
   "name": "python3"
  },
  "language_info": {
   "codemirror_mode": {
    "name": "ipython",
    "version": 3
   },
   "file_extension": ".py",
   "mimetype": "text/x-python",
   "name": "python",
   "nbconvert_exporter": "python",
   "pygments_lexer": "ipython3",
   "version": "3.9.7"
  }
 },
 "nbformat": 4,
 "nbformat_minor": 1
}
