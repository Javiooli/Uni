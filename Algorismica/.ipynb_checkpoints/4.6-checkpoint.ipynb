{
 "cells": [
  {
   "cell_type": "markdown",
   "metadata": {
    "id": "Wwhw_mq0ZtJB"
   },
   "source": [
    "# Capítol 4 - Algorismes i Text"
   ]
  },
  {
   "cell_type": "markdown",
   "metadata": {
    "id": "4hX7ToEYZtJO"
   },
   "source": [
    "### 4.6 Run Length Encoding"
   ]
  },
  {
   "cell_type": "code",
   "execution_count": 1,
   "metadata": {
    "id": "Dw9mM6MOZtJO"
   },
   "outputs": [],
   "source": [
    "def rle(text):\n",
    "    textcodificat = \"\"\n",
    "    char = text[0]\n",
    "    j = 1\n",
    "    for i in range(1, len(text)+1):\n",
    "        if i == len(text):\n",
    "            textcodificat += char + str(j)\n",
    "        elif text[i] == char:\n",
    "            j += 1\n",
    "        else:\n",
    "            textcodificat += char + str(j)\n",
    "            char = text[i]\n",
    "            j = 1\n",
    "\n",
    "    return textcodificat"
   ]
  },
  {
   "cell_type": "code",
   "execution_count": 2,
   "metadata": {
    "id": "vayUYyPIZtJO",
    "scrolled": true
   },
   "outputs": [],
   "source": [
    "assert rle(\"ABBBBNNNEEEDDDZZAAAAA\") == 'A1B4N3E3D3Z2A5'\n",
    "assert rle(\"BBBBBBBBBBBBBBBBBWWWWWWZAAA\") == 'B17W6Z1A3'"
   ]
  },
  {
   "cell_type": "markdown",
   "metadata": {
    "id": "-3uU250EZtJQ"
   },
   "source": [
    "       \n",
    "La complexitat de l'algorisme és O(n)."
   ]
  }
 ],
 "metadata": {
  "colab": {
   "collapsed_sections": [],
   "name": "4.6.ipynb",
   "provenance": []
  },
  "kernelspec": {
   "display_name": "Python 3",
   "language": "python",
   "name": "python3"
  },
  "language_info": {
   "codemirror_mode": {
    "name": "ipython",
    "version": 3
   },
   "file_extension": ".py",
   "mimetype": "text/x-python",
   "name": "python",
   "nbconvert_exporter": "python",
   "pygments_lexer": "ipython3",
   "version": "3.8.8"
  }
 },
 "nbformat": 4,
 "nbformat_minor": 1
}
