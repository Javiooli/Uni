{
 "cells": [
  {
   "cell_type": "markdown",
   "metadata": {
    "id": "KB3KAlcFUTai"
   },
   "source": [
    "# Capítol 3 - Algorismes i Nombres"
   ]
  },
  {
   "cell_type": "markdown",
   "metadata": {
    "id": "aSN4GzA2UTam"
   },
   "source": [
    "### 3.2 El Màxim Comú Divisor i les seves aplicacions"
   ]
  },
  {
   "cell_type": "code",
   "execution_count": 63,
   "metadata": {
    "id": "eU2pBV6yUTam"
   },
   "outputs": [
    {
     "name": "stdout",
     "output_type": "stream",
     "text": [
      "els divisorsDen son [1, 2, 4, 8]\n",
      "els divisorsNum son [1, 2, 3, 4, 6, 12]\n"
     ]
    },
    {
     "data": {
      "text/plain": [
       "(3, 2)"
      ]
     },
     "execution_count": 63,
     "metadata": {},
     "output_type": "execute_result"
    }
   ],
   "source": [
    "def reduir_fraccio(numerador, denominador):\n",
    "    divisorsNum = []\n",
    "    divisorsDen = []\n",
    "    for i in range(1, numerador+1):\n",
    "        if(numerador % i ==0):\n",
    "            divisorsNum.append(i)\n",
    "        else:\n",
    "            pass\n",
    "    for i in range(1, denominador+1):\n",
    "        if(denominador % i ==0):\n",
    "            divisorsDen.append(i)\n",
    "        else:\n",
    "            pass\n",
    "    print('els divisorsDen son',divisorsDen)\n",
    "    print('els divisorsNum son',divisorsNum)\n",
    "    \n",
    "    numTeMenysDivs = (len(divisorsNum) < len(divisorsDen))\n",
    "\n",
    "    minDivs = min(len(divisorsNum), len(divisorsDen))\n",
    "    \n",
    "    for i in range (1, minDivs+1):\n",
    "        for j in range(1, minDivs+1):\n",
    "            if numTeMenysDivs:\n",
    "                if(divisorsNum[0-i] == divisorsDen[0-j]):\n",
    "                    numReduit = numerador//divisorsNum[0-i]\n",
    "                    denReduit = denominador//divisorsNum[0-i]\n",
    "                else:\n",
    "                    pass\n",
    "            else:\n",
    "                if(divisorsDen[0-i] == divisorsNum[0-j]):\n",
    "                    numReduit = numerador//divisorsNum[0-j]\n",
    "                    denReduit = denominador//divisorsNum[0-j]\n",
    "                else:\n",
    "                    pass\n",
    "    \n",
    "    \n",
    "    return (numReduit,denReduit)\n",
    "    \n",
    "reduir_fraccio(12,8)"
   ]
  },
  {
   "cell_type": "code",
   "execution_count": 64,
   "metadata": {
    "id": "9J9Oq82_UTan"
   },
   "outputs": [
    {
     "name": "stdout",
     "output_type": "stream",
     "text": [
      "els divisorsDen son [1, 2, 4, 8]\n",
      "els divisorsNum son [1, 2, 3, 4, 6, 12]\n"
     ]
    }
   ],
   "source": [
    "assert reduir_fraccio(12, 8) == (3,2)"
   ]
  }
 ],
 "metadata": {
  "colab": {
   "collapsed_sections": [],
   "name": "3.2.ipynb",
   "provenance": []
  },
  "kernelspec": {
   "display_name": "Python 3",
   "language": "python",
   "name": "python3"
  },
  "language_info": {
   "codemirror_mode": {
    "name": "ipython",
    "version": 3
   },
   "file_extension": ".py",
   "mimetype": "text/x-python",
   "name": "python",
   "nbconvert_exporter": "python",
   "pygments_lexer": "ipython3",
   "version": "3.8.8"
  }
 },
 "nbformat": 4,
 "nbformat_minor": 1
}
