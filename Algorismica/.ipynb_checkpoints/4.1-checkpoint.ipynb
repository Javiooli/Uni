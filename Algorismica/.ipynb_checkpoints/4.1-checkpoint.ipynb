{
 "cells": [
  {
   "cell_type": "markdown",
   "metadata": {
    "id": "uDBDG-H-Zkj7"
   },
   "source": [
    "# Capítol 4 - Algorismes i Text"
   ]
  },
  {
   "cell_type": "markdown",
   "metadata": {
    "id": "u2QFmRo_Zkj9"
   },
   "source": [
    "### 4.1 Acronims"
   ]
  },
  {
   "cell_type": "code",
   "execution_count": 25,
   "metadata": {
    "id": "U1OKgXrjZkj-"
   },
   "outputs": [],
   "source": [
    "def acronim(frase):\n",
    "    acronim = \"\"\n",
    "    fraseSplit = frase.split()\n",
    "    for i in range(len(fraseSplit)):\n",
    "        acronim += fraseSplit[i][0].upper()\n",
    "    return acronim"
   ]
  },
  {
   "cell_type": "code",
   "execution_count": 27,
   "metadata": {
    "id": "IJoMRg_5Zkj_"
   },
   "outputs": [],
   "source": [
    "assert acronim(\"Hola que tal\") == 'HQT'"
   ]
  }
 ],
 "metadata": {
  "colab": {
   "collapsed_sections": [],
   "name": "4.1.ipynb",
   "provenance": []
  },
  "kernelspec": {
   "display_name": "Python 3",
   "language": "python",
   "name": "python3"
  },
  "language_info": {
   "codemirror_mode": {
    "name": "ipython",
    "version": 3
   },
   "file_extension": ".py",
   "mimetype": "text/x-python",
   "name": "python",
   "nbconvert_exporter": "python",
   "pygments_lexer": "ipython3",
   "version": "3.8.8"
  }
 },
 "nbformat": 4,
 "nbformat_minor": 1
}
