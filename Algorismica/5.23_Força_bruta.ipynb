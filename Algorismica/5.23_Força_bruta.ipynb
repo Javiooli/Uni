{
 "cells": [
  {
   "cell_type": "markdown",
   "metadata": {
    "id": "Y4Syz3Z6njBa"
   },
   "source": [
    "# Capítol 5 - Dividir i Vèncer"
   ]
  },
  {
   "cell_type": "markdown",
   "metadata": {
    "id": "P-PUxj6unjBu"
   },
   "source": [
    "## 5.23 Sumatori parcial màxim"
   ]
  },
  {
   "cell_type": "code",
   "execution_count": 1,
   "metadata": {
    "id": "reYmSBX9njBu"
   },
   "outputs": [],
   "source": [
    "# Solució força bruta\n",
    "def sumatori_parcial_maxim_forca_bruta(llista):\n",
    "    \"\"\"\n",
    "    Aquesta funció troba el sumatori parcial (dels enters consecutius a la llista) de valor màxim.\n",
    "    \n",
    "    Parameters\n",
    "    ----------\n",
    "    llista: list\n",
    "    \n",
    "    Returns\n",
    "    -------\n",
    "    max_sum: int\n",
    "    \"\"\"\n",
    "    max_sum = None\n",
    "    for i in range(len(llista)):\n",
    "        for j in range(i + 1, len(llista)):\n",
    "            max_sum_temp = sum(llista[i:j])\n",
    "            if (not max_sum or max_sum_temp > max_sum):\n",
    "                max_sum = max_sum_temp\n",
    "    return max_sum"
   ]
  },
  {
   "cell_type": "code",
   "execution_count": 2,
   "metadata": {
    "id": "Cp-x_sjsnjBu"
   },
   "outputs": [],
   "source": [
    "assert sumatori_parcial_maxim_forca_bruta([-3, 2, -1, 9, 8 , -1, -1,-1, -105]) == 18\n",
    "assert sumatori_parcial_maxim_forca_bruta([1, 2, -6, 4, -1, 2, 1, -5]) == 6"
   ]
  }
 ],
 "metadata": {
  "colab": {
   "collapsed_sections": [],
   "name": "5.23.ipynb",
   "provenance": []
  },
  "kernelspec": {
   "display_name": "Python 3 (ipykernel)",
   "language": "python",
   "name": "python3"
  },
  "language_info": {
   "codemirror_mode": {
    "name": "ipython",
    "version": 3
   },
   "file_extension": ".py",
   "mimetype": "text/x-python",
   "name": "python",
   "nbconvert_exporter": "python",
   "pygments_lexer": "ipython3",
   "version": "3.9.7"
  }
 },
 "nbformat": 4,
 "nbformat_minor": 1
}
