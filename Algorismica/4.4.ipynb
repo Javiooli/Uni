{
 "cells": [
  {
   "cell_type": "markdown",
   "metadata": {
    "id": "3o3r06ZwdZrY"
   },
   "source": [
    "# Capítol 4 - Algorismes i Text"
   ]
  },
  {
   "cell_type": "markdown",
   "metadata": {
    "id": "qansbtWydZrg"
   },
   "source": [
    "### 4.4 Totes les subcadenes"
   ]
  },
  {
   "cell_type": "code",
   "execution_count": null,
   "metadata": {
    "id": "aL0b76TVdZrg"
   },
   "outputs": [],
   "source": [
    "def totes_subcadenes(cadena):\n",
    "    \"\"\"\n",
    "    Aquesta funció retorna totes les subcadenes de la cadena donada\n",
    "    \n",
    "    Parameters\n",
    "    ----------\n",
    "    cadena: string\n",
    "    \n",
    "    Returns\n",
    "    -------\n",
    "    subcadenes: list\n",
    "    \"\"\"\n",
    "    subcadenes = []\n",
    "    for x in range(len(cadena)):\n",
    "        for y in range(len(cadena)):\n",
    "            subcadenes.append(cadena)\n",
    "    return sub_cadenes"
   ]
  },
  {
   "cell_type": "code",
   "execution_count": null,
   "metadata": {
    "id": "vK9NuQOKdZrg"
   },
   "outputs": [],
   "source": [
    "assert len(totes_subcadenes('abcd')) == int((len('abcd') *(len('abcd') + 1)/2))\n",
    "assert totes_subcadenes('abcd') == ['a', 'ab', 'abc', 'abcd', 'b', 'bc', 'bcd', 'c', 'cd', 'd']"
   ]
  }
 ],
 "metadata": {
  "colab": {
   "collapsed_sections": [],
   "name": "4.4.ipynb",
   "provenance": []
  },
  "kernelspec": {
   "display_name": "Python 3",
   "language": "python",
   "name": "python3"
  },
  "language_info": {
   "codemirror_mode": {
    "name": "ipython",
    "version": 3
   },
   "file_extension": ".py",
   "mimetype": "text/x-python",
   "name": "python",
   "nbconvert_exporter": "python",
   "pygments_lexer": "ipython3",
   "version": "3.8.8"
  }
 },
 "nbformat": 4,
 "nbformat_minor": 1
}
