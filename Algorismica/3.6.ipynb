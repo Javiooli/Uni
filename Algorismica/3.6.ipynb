{
 "cells": [
  {
   "cell_type": "markdown",
   "metadata": {
    "id": "Tq8bG1MNUhzi"
   },
   "source": [
    "# Capítol 3 - Algorismes i Nombres"
   ]
  },
  {
   "cell_type": "markdown",
   "metadata": {
    "id": "tCtf0jLsUhzy"
   },
   "source": [
    "### 3.6 Aritmetica modular"
   ]
  },
  {
   "cell_type": "code",
   "execution_count": 16,
   "metadata": {
    "id": "_ZIPSE7YUhzy"
   },
   "outputs": [
    {
     "data": {
      "text/plain": [
       "True"
      ]
     },
     "execution_count": 16,
     "metadata": {},
     "output_type": "execute_result"
    }
   ],
   "source": [
    "def validar_NIF(cadenaNIF):\n",
    "    \"\"\"\n",
    "    Aquesta funció valida si la lletre correspon al DNI\n",
    "    \n",
    "    Parameters\n",
    "    ----------\n",
    "    cadenaNIF: str\n",
    "        NIF\n",
    "        \n",
    "    Returns\n",
    "    -------\n",
    "    esCorrecte: bool\n",
    "        Retorna si el NIF és correcte o no.\n",
    "    \"\"\"\n",
    "    lletres = ['T','R','W','A','G','M','Y','F','P','D','X','B','N','J','Z','S','Q','V','H','L','C','K','E']\n",
    "    lletraNIF = cadenaNIF[-1]\n",
    "    cadenaNIF = int(cadenaNIF[:-1])\n",
    "    esCorrecte = (lletraNIF == lletres[cadenaNIF%23])\n",
    "    return esCorrecte\n",
    "\n",
    "\n",
    "\n",
    "validar_NIF('47892906Y')"
   ]
  },
  {
   "cell_type": "code",
   "execution_count": 17,
   "metadata": {
    "id": "ez-eMr8lUhzy"
   },
   "outputs": [],
   "source": [
    "assert validar_NIF('56789123F') == True\n",
    "assert validar_NIF('56789123H') == False"
   ]
  },
  {
   "cell_type": "code",
   "execution_count": 88,
   "metadata": {
    "id": "O_2SAkrsUhzy"
   },
   "outputs": [
    {
     "data": {
      "text/plain": [
       "'ZA'"
      ]
     },
     "execution_count": 88,
     "metadata": {},
     "output_type": "execute_result"
    }
   ],
   "source": [
    "def conversio_fulla_calcul(num):\n",
    "    \"\"\"\n",
    "    Aquesta funció tradueix el valor num en el nom corresponent que tindriem en un full de càlcul.\n",
    "    \n",
    "    Parameters\n",
    "    ----------\n",
    "    num: int\n",
    "    \n",
    "    Returns\n",
    "    columna: str\n",
    "    \"\"\"\n",
    "    abecedari = ['A', 'B', 'C', 'D','E', 'F', 'G', 'H', 'I', 'J', 'K', 'L', 'M', 'N', 'O', 'P', 'Q', 'R', 'S', 'T', 'U', 'V', 'W', 'X', 'Y', 'Z']\n",
    "    #print(abecedari, columna, num)\n",
    "    columna = \"\"\n",
    "    columnes = 3\n",
    "    if num <= 26: columna = abecedari[num-1]\n",
    "    else:\n",
    "        modul = int((num-1)%26)\n",
    "        columna = abecedari[modul]\n",
    "        num /= 26\n",
    "        while ((num/26)-1 >=1):\n",
    "            modul = int((num-1)%26)\n",
    "            columna += abecedari[modul]\n",
    "            num /= 26\n",
    "            columnes += 1\n",
    "        columna += abecedari[int(num-columnes)]\n",
    "    columna = columna[::-1]\n",
    "        \n",
    "\n",
    "\n",
    "    return columna\n",
    "\n",
    "conversio_fulla_calcul(729)\n"
   ]
  },
  {
   "cell_type": "code",
   "execution_count": 102,
   "metadata": {
    "id": "DIe-ltSWUhzy"
   },
   "outputs": [],
   "source": [
    "assert conversio_fulla_calcul(1) == 'A'\n",
    "assert conversio_fulla_calcul(25) == 'Y'\n",
    "assert conversio_fulla_calcul(26) == 'Z'\n",
    "assert conversio_fulla_calcul(27) == 'AA'\n",
    "assert conversio_fulla_calcul(28) == 'AB'\n",
    "assert conversio_fulla_calcul(29) == 'AC'\n",
    "assert conversio_fulla_calcul(107) == 'DC'\n",
    "assert conversio_fulla_calcul(406) == 'OP'\n",
    "assert conversio_fulla_calcul(407) == 'OQ'\n",
    "assert conversio_fulla_calcul(408) == 'OR'\n",
    "assert conversio_fulla_calcul(412) == 'OV'\n",
    "assert conversio_fulla_calcul(702) == 'ZZ'\n",
    "assert conversio_fulla_calcul(703) == 'AAA'\n",
    "assert conversio_fulla_calcul(704) == 'AAB'\n",
    "assert conversio_fulla_calcul(705) == 'AAC'\n",
    "assert conversio_fulla_calcul(708) == 'AAF'\n",
    "assert conversio_fulla_calcul(1000) == 'ALL'"
   ]
  }
 ],
 "metadata": {
  "colab": {
   "collapsed_sections": [],
   "name": "3.6.ipynb",
   "provenance": []
  },
  "interpreter": {
   "hash": "fac30a1c78bd60a5bc35902c3ce82f05d0005642fbcc5e5c43466c8abc2de7a4"
  },
  "kernelspec": {
   "display_name": "Python 3 (ipykernel)",
   "language": "python",
   "name": "python3"
  },
  "language_info": {
   "codemirror_mode": {
    "name": "ipython",
    "version": 3
   },
   "file_extension": ".py",
   "mimetype": "text/x-python",
   "name": "python",
   "nbconvert_exporter": "python",
   "pygments_lexer": "ipython3",
   "version": "3.9.7"
  }
 },
 "nbformat": 4,
 "nbformat_minor": 1
}
