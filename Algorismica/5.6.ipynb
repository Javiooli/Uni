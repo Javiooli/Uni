{
 "cells": [
  {
   "cell_type": "markdown",
   "metadata": {
    "id": "sjzYPNHsie1w"
   },
   "source": [
    "# Capítol 5 - Dividir i Vèncer"
   ]
  },
  {
   "cell_type": "markdown",
   "metadata": {
    "id": "XCwfxvKOie16"
   },
   "source": [
    "### 5.6 Negatius al davant"
   ]
  },
  {
   "cell_type": "code",
   "execution_count": 1,
   "metadata": {
    "id": "lPkE7tsGie16"
   },
   "outputs": [
    {
     "data": {
      "text/plain": [
       "[-2, -4, -3, 1, 3, 5, 6]"
      ]
     },
     "execution_count": 1,
     "metadata": {},
     "output_type": "execute_result"
    }
   ],
   "source": [
    "def negatius(llista):\n",
    "    \"\"\"\n",
    "    Aquesta funció retorna la llista amb els nombres negatius al davant\n",
    "    \n",
    "    Parameters\n",
    "    ----------\n",
    "    llista: list\n",
    "    \n",
    "    Returns\n",
    "    -------\n",
    "    llistaOrdenada: list\n",
    "    \"\"\"\n",
    "    contador = 0\n",
    "    for i in range(len(llista)):\n",
    "        if (llista[i] < 0):\n",
    "            llista[i], llista[contador] = llista[contador], llista[i]\n",
    "            contador += 1\n",
    "    \n",
    "    return llista\n",
    "\n",
    "negatius([1, -2, 3, -4, -3, 5, 6])"
   ]
  },
  {
   "cell_type": "code",
   "execution_count": null,
   "metadata": {
    "id": "mNhUoBmAie16"
   },
   "outputs": [],
   "source": [
    "llista = [1, -2, 3, -4, -3, 5, 6]\n",
    "negatius(llista)\n",
    "assert llista == [-3, -2, -4, 3, 1, 5, 6]"
   ]
  },
  {
   "cell_type": "code",
   "execution_count": null,
   "metadata": {
    "id": "uf4_uUDbie16"
   },
   "outputs": [],
   "source": []
  }
 ],
 "metadata": {
  "colab": {
   "collapsed_sections": [],
   "name": "5.6.ipynb",
   "provenance": []
  },
  "kernelspec": {
   "display_name": "Python 3 (ipykernel)",
   "language": "python",
   "name": "python3"
  },
  "language_info": {
   "codemirror_mode": {
    "name": "ipython",
    "version": 3
   },
   "file_extension": ".py",
   "mimetype": "text/x-python",
   "name": "python",
   "nbconvert_exporter": "python",
   "pygments_lexer": "ipython3",
   "version": "3.9.7"
  }
 },
 "nbformat": 4,
 "nbformat_minor": 1
}
