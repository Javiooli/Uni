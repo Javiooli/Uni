{
 "cells": [
  {
   "cell_type": "markdown",
   "metadata": {
    "id": "Zf2uFxcwoDze"
   },
   "source": [
    "# TorneigA5 - Dividir i Vèncer"
   ]
  },
  {
   "cell_type": "markdown",
   "metadata": {
    "id": "sSIVADBZoDz0"
   },
   "source": [
    "## Quantes vegades apareix una cadena com a subq (4 punts)"
   ]
  },
  {
   "cell_type": "code",
   "execution_count": 18,
   "metadata": {
    "id": "drpjQcKloDz0"
   },
   "outputs": [
    {
     "data": {
      "text/plain": [
       "4"
      ]
     },
     "execution_count": 18,
     "metadata": {},
     "output_type": "execute_result"
    }
   ],
   "source": [
    "def comptarSubsequencia(paraula, cadena):\n",
    "    \"\"\"\n",
    "    Aquesta funció determina quantes vegades apareix una cadena en una paraula\n",
    "    com a subseqüència\n",
    "    \n",
    "    Parameters\n",
    "    ----------\n",
    "    paraula: string\n",
    "        paraula en la que buscar la cadena\n",
    "    cadena: string\n",
    "        cadena a buscar  \n",
    "    -------\n",
    "    num: int\n",
    "        nombre de vegades que apareix\n",
    "    \"\"\"\n",
    "    num = comptarAux(cadena, paraula, len(cadena), len(paraula))\n",
    "    return num\n",
    "\n",
    "\n",
    "def comptarAux(cadena, paraula, lenC, lenP):\n",
    "\n",
    "    if (lenC == 1 and lenP == 1):\n",
    "        if (cadena[0] == paraula[0]):\n",
    "            return 1 \n",
    "        else:\n",
    "            return 0\n",
    " \n",
    "\n",
    "    if (lenC == 0):\n",
    "        return 0\n",
    " \n",
    "\n",
    "    if (lenP == 0):\n",
    "        return 1\n",
    " \n",
    "\n",
    "    if (lenP > lenC):\n",
    "        return 0\n",
    "\n",
    " \n",
    "    return (comptarAux(cadena, paraula, lenC - 1, lenP - 1) if cadena[lenC - 1] == paraula[lenP - 1] else 0)\\\n",
    "        + comptarAux(cadena, paraula, lenC - 1, lenP)\n",
    " \n",
    "\n",
    "    \n",
    "comptarSubsequencia(\"sue\",\"subsequencia\")"
   ]
  },
  {
   "cell_type": "code",
   "execution_count": 2,
   "metadata": {
    "id": "BmlpJSYBoDz0"
   },
   "outputs": [
    {
     "ename": "NameError",
     "evalue": "name 'a' is not defined",
     "output_type": "error",
     "traceback": [
      "\u001b[1;31m---------------------------------------------------------------------------\u001b[0m",
      "\u001b[1;31mNameError\u001b[0m                                 Traceback (most recent call last)",
      "\u001b[1;32m~\\AppData\\Local\\Temp/ipykernel_7520/2093518956.py\u001b[0m in \u001b[0;36m<module>\u001b[1;34m\u001b[0m\n\u001b[1;32m----> 1\u001b[1;33m \u001b[1;32massert\u001b[0m \u001b[0mcomptarSubsequencia\u001b[0m\u001b[1;33m(\u001b[0m\u001b[1;34m\"Pie\"\u001b[0m\u001b[1;33m,\u001b[0m\u001b[1;34m\"Piee\"\u001b[0m\u001b[1;33m)\u001b[0m \u001b[1;33m==\u001b[0m \u001b[1;36m2\u001b[0m\u001b[1;33m\u001b[0m\u001b[1;33m\u001b[0m\u001b[0m\n\u001b[0m\u001b[0;32m      2\u001b[0m \u001b[1;32massert\u001b[0m \u001b[0mcomptarSubsequencia\u001b[0m\u001b[1;33m(\u001b[0m\u001b[1;34m\"sue\"\u001b[0m\u001b[1;33m,\u001b[0m\u001b[1;34m\"subsequencia\"\u001b[0m\u001b[1;33m)\u001b[0m \u001b[1;33m==\u001b[0m \u001b[1;36m4\u001b[0m\u001b[1;33m\u001b[0m\u001b[1;33m\u001b[0m\u001b[0m\n\u001b[0;32m      3\u001b[0m \u001b[1;32massert\u001b[0m \u001b[0mcomptarSubsequencia\u001b[0m\u001b[1;33m(\u001b[0m\u001b[1;34m\"123\"\u001b[0m\u001b[1;33m,\u001b[0m\u001b[1;34m\"123451234512345\"\u001b[0m\u001b[1;33m)\u001b[0m \u001b[1;33m==\u001b[0m \u001b[1;36m10\u001b[0m\u001b[1;33m\u001b[0m\u001b[1;33m\u001b[0m\u001b[0m\n\u001b[0;32m      4\u001b[0m \u001b[1;32massert\u001b[0m \u001b[0mcomptarSubsequencia\u001b[0m\u001b[1;33m(\u001b[0m\u001b[1;34m\"ppa\"\u001b[0m\u001b[1;33m,\u001b[0m\u001b[1;34m\"ppaa\"\u001b[0m\u001b[1;33m)\u001b[0m \u001b[1;33m==\u001b[0m \u001b[1;36m2\u001b[0m \u001b[1;31m#Si aquest dona problema pot ser error d'índex.\u001b[0m\u001b[1;33m\u001b[0m\u001b[1;33m\u001b[0m\u001b[0m\n",
      "\u001b[1;32m~\\AppData\\Local\\Temp/ipykernel_7520/1730745406.py\u001b[0m in \u001b[0;36mcomptarSubsequencia\u001b[1;34m(paraula, cadena)\u001b[0m\n\u001b[0;32m     14\u001b[0m         \u001b[0mnombre\u001b[0m \u001b[0mde\u001b[0m \u001b[0mvegades\u001b[0m \u001b[0mque\u001b[0m \u001b[0mapareix\u001b[0m\u001b[1;33m\u001b[0m\u001b[1;33m\u001b[0m\u001b[0m\n\u001b[0;32m     15\u001b[0m     \"\"\"\n\u001b[1;32m---> 16\u001b[1;33m     \u001b[1;32mreturn\u001b[0m \u001b[0mcomptarAux\u001b[0m\u001b[1;33m(\u001b[0m\u001b[0mparaula\u001b[0m\u001b[1;33m,\u001b[0m \u001b[0mcadena\u001b[0m\u001b[1;33m,\u001b[0m \u001b[0mlen\u001b[0m\u001b[1;33m(\u001b[0m\u001b[0mparaula\u001b[0m\u001b[1;33m)\u001b[0m\u001b[1;33m,\u001b[0m \u001b[0mlen\u001b[0m\u001b[1;33m(\u001b[0m\u001b[0mcadena\u001b[0m\u001b[1;33m)\u001b[0m\u001b[1;33m)\u001b[0m\u001b[1;33m\u001b[0m\u001b[1;33m\u001b[0m\u001b[0m\n\u001b[0m\u001b[0;32m     17\u001b[0m \u001b[1;33m\u001b[0m\u001b[0m\n\u001b[0;32m     18\u001b[0m \u001b[1;32mdef\u001b[0m \u001b[0mcomptarAux\u001b[0m\u001b[1;33m(\u001b[0m\u001b[0mparaula\u001b[0m\u001b[1;33m,\u001b[0m \u001b[0mcadena\u001b[0m\u001b[1;33m,\u001b[0m \u001b[0mm\u001b[0m\u001b[1;33m,\u001b[0m \u001b[0mn\u001b[0m\u001b[1;33m)\u001b[0m\u001b[1;33m:\u001b[0m\u001b[1;33m\u001b[0m\u001b[1;33m\u001b[0m\u001b[0m\n",
      "\u001b[1;32m~\\AppData\\Local\\Temp/ipykernel_7520/1730745406.py\u001b[0m in \u001b[0;36mcomptarAux\u001b[1;34m(paraula, cadena, m, n)\u001b[0m\n\u001b[0;32m     36\u001b[0m     \u001b[1;31m# 2. ignoring last character\u001b[0m\u001b[1;33m\u001b[0m\u001b[1;33m\u001b[0m\u001b[0m\n\u001b[0;32m     37\u001b[0m     \u001b[1;31m#    of first string\u001b[0m\u001b[1;33m\u001b[0m\u001b[1;33m\u001b[0m\u001b[0m\n\u001b[1;32m---> 38\u001b[1;33m     \u001b[1;32mif\u001b[0m \u001b[1;33m(\u001b[0m\u001b[0ma\u001b[0m\u001b[1;33m[\u001b[0m\u001b[0mm\u001b[0m \u001b[1;33m-\u001b[0m \u001b[1;36m1\u001b[0m\u001b[1;33m]\u001b[0m \u001b[1;33m==\u001b[0m \u001b[0mb\u001b[0m\u001b[1;33m[\u001b[0m\u001b[0mn\u001b[0m \u001b[1;33m-\u001b[0m \u001b[1;36m1\u001b[0m\u001b[1;33m]\u001b[0m\u001b[1;33m)\u001b[0m\u001b[1;33m:\u001b[0m\u001b[1;33m\u001b[0m\u001b[1;33m\u001b[0m\u001b[0m\n\u001b[0m\u001b[0;32m     39\u001b[0m         return (count(a, b, m - 1, n - 1) +\n\u001b[0;32m     40\u001b[0m                 count(a, b, m - 1, n))\n",
      "\u001b[1;31mNameError\u001b[0m: name 'a' is not defined"
     ]
    }
   ],
   "source": [
    "assert comptarSubsequencia(\"Pie\",\"Piee\") == 2\n",
    "assert comptarSubsequencia(\"sue\",\"subsequencia\") == 4\n",
    "assert comptarSubsequencia(\"123\",\"123451234512345\") == 10\n",
    "assert comptarSubsequencia(\"ppa\",\"ppaa\") == 2 #Si aquest dona problema pot ser error d'índex."
   ]
  },
  {
   "cell_type": "markdown",
   "metadata": {
    "id": "qDSb2bP6U8EQ"
   },
   "source": [
    "## Amb quin cost apareix? (4 punts)"
   ]
  },
  {
   "cell_type": "code",
   "execution_count": null,
   "metadata": {
    "id": "USq4DyMqU8EQ"
   },
   "outputs": [],
   "source": [
    "def comptarSubsequenciaPreu(paraula, cadena):\n",
    "    \"\"\"\n",
    "    Aquesta funció determina quantes vegades apareix una cadena en una paraula\n",
    "    com a subseqüència i el cost mínim tenint en compte que cada lletra enmig suma 1 al cost.\n",
    "    \n",
    "    Parameters\n",
    "    ----------\n",
    "    paraula: string\n",
    "        paraula en la que buscar la cadena\n",
    "    cadena: string\n",
    "        cadena a buscar  \n",
    "    -------\n",
    "    num: int\n",
    "        nombre de vegades que apareix\n",
    "    cost: int\n",
    "        cost mínim\n",
    "    \"\"\"\n",
    "\n",
    "    return num,cost #Podeu canviar.\n",
    "        "
   ]
  },
  {
   "cell_type": "code",
   "execution_count": null,
   "metadata": {
    "id": "U4s0y9jwU8ER"
   },
   "outputs": [],
   "source": [
    "assert comptarSubsequenciaPreu(\"Pie\",\"Piee\") == (2,0)\n",
    "assert comptarSubsequenciaPreu(\"sue\",\"subsequencia\") == (4,2)\n",
    "assert comptarSubsequenciaPreu(\"123\",\"123451234512345\") == (10,0)\n",
    "assert comptarSubsequenciaPreu(\"ser\",\"senrsse\") == (1,1)  #Pot donar problemes."
   ]
  }
 ],
 "metadata": {
  "colab": {
   "collapsed_sections": [],
   "name": "TorneigA5.ipynb",
   "provenance": []
  },
  "kernelspec": {
   "display_name": "Python 3 (ipykernel)",
   "language": "python",
   "name": "python3"
  },
  "language_info": {
   "codemirror_mode": {
    "name": "ipython",
    "version": 3
   },
   "file_extension": ".py",
   "mimetype": "text/x-python",
   "name": "python",
   "nbconvert_exporter": "python",
   "pygments_lexer": "ipython3",
   "version": "3.9.7"
  }
 },
 "nbformat": 4,
 "nbformat_minor": 1
}
