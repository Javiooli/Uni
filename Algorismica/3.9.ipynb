{
 "cells": [
  {
   "cell_type": "markdown",
   "metadata": {
    "id": "Tq8bG1MNUhzi"
   },
   "source": [
    "# Capítol 3 - Algorismes i Nombres"
   ]
  },
  {
   "cell_type": "markdown",
   "metadata": {
    "id": "-b_Lt07AUhz0"
   },
   "source": [
    "### 3.9 Primeritat i el Teorema de Fermat"
   ]
  },
  {
   "cell_type": "code",
   "execution_count": 1,
   "metadata": {},
   "outputs": [],
   "source": [
    "from math import log, sqrt \n",
    "\n",
    "def eratostenes(n) :\n",
    "    \"\"\"\n",
    "    Aquesta funció implementa l'algorisme d'Eratòstenes per cercar tots els nombres primers fins a n.\n",
    "    \n",
    "    Parameters\n",
    "    ----------\n",
    "    n: int\n",
    "    \n",
    "    Returns\n",
    "    -------\n",
    "    ret: list\n",
    "    \"\"\"\n",
    "    llista1 = list(range(2,n+1))\n",
    "    B = []\n",
    "    primerValor = llista1[0]\n",
    "    while (primerValor < sqrt(n)):\n",
    "        B.append(llista1[0])\n",
    "        for i in range(1, len(llista1)):\n",
    "            if ((i*primerValor) in llista1):\n",
    "                llista1.remove(i*primerValor)\n",
    "            else:\n",
    "                pass\n",
    "        primerValor = llista1[0]\n",
    "    ret = B + llista1\n",
    "    return ret\n",
    "    "
   ]
  },
  {
   "cell_type": "code",
   "execution_count": 2,
   "metadata": {
    "id": "9HC6tSoaUhz0"
   },
   "outputs": [],
   "source": [
    "def primers_Wieferich(n = 5000):\n",
    "    \"\"\"\n",
    "    Aquesta funció calcula els primer de Wieferich fins a n = 5000.\n",
    "    \n",
    "    Parameters\n",
    "    ----------\n",
    "    n: int\n",
    "    \n",
    "    Returns\n",
    "    -------\n",
    "    wieferich: list\n",
    "    \"\"\"\n",
    "    llista_primers = eratostenes(n)\n",
    "    wieferich = [num for num in llista_primers if (pow(2, num-1, num**2) == 1)]\n",
    "    return wieferich"
   ]
  },
  {
   "cell_type": "code",
   "execution_count": 3,
   "metadata": {
    "id": "F8lCar_aUhz1"
   },
   "outputs": [],
   "source": [
    "assert primers_Wieferich(n = 5000) == [1093,3511]"
   ]
  },
  {
   "cell_type": "code",
   "execution_count": 6,
   "metadata": {
    "id": "alvUA8KRUhz1"
   },
   "outputs": [],
   "source": [
    "import math\n",
    "from random import randint\n",
    "\n",
    "def factorp(N):\n",
    "    \"\"\"\n",
    "    Aquesta funció comprova si un determinat nombre és primer mitjançant la tècnica de factorització.\n",
    "    \n",
    "    Parameters\n",
    "    ----------\n",
    "    N: int\n",
    "    \n",
    "    Returns\n",
    "    -------\n",
    "    esPrimer: bool\n",
    "    \"\"\"\n",
    "    i = 0\n",
    "    if N < 2: return True\n",
    "    A = [i for i in range(2, int(sqrt(N)) + 1)]\n",
    "    Trobat = False\n",
    "    while len(A)>0 and A[0] <= sqrt(N) and not(Trobat):\n",
    "        if N % A[i] == 0:\n",
    "            Trobat = True\n",
    "        else:\n",
    "            i = 1\n",
    "            while i < len(A):\n",
    "                if A[i] % A[0] == 0:\n",
    "                    del(A[i])\n",
    "                i += 1\n",
    "            del(A[0])\n",
    "    return not Trobat\n",
    "\n",
    "\n",
    "def fermatp(N, a = [2, 3, 5]):\n",
    "    \"\"\"\n",
    "    Aquesta funció comprova si un nombre es primer mitjançant la tècnica de Fermat\n",
    "    \n",
    "    Parameters\n",
    "    ----------\n",
    "    N: int\n",
    "    a: list\n",
    "    \n",
    "    Returns\n",
    "    -------\n",
    "    esPrimer: bool\n",
    "    \"\"\"\n",
    "    if N == 1:\n",
    "        return False\n",
    "    for x in range(len(a)):\n",
    "        val = randint(1, N-1)\n",
    "        if pow(val, N-1, N) != 1:\n",
    "            return False\n",
    "    return True"
   ]
  },
  {
   "cell_type": "code",
   "execution_count": 7,
   "metadata": {
    "id": "38WPdLEWUhz1"
   },
   "outputs": [],
   "source": [
    "assert factorp(10) == False\n",
    "assert fermatp(10) == False"
   ]
  },
  {
   "cell_type": "code",
   "execution_count": null,
   "metadata": {},
   "outputs": [],
   "source": []
  }
 ],
 "metadata": {
  "colab": {
   "collapsed_sections": [],
   "name": "3.9.ipynb",
   "provenance": []
  },
  "interpreter": {
   "hash": "fac30a1c78bd60a5bc35902c3ce82f05d0005642fbcc5e5c43466c8abc2de7a4"
  },
  "kernelspec": {
   "display_name": "Python 3",
   "language": "python",
   "name": "python3"
  },
  "language_info": {
   "codemirror_mode": {
    "name": "ipython",
    "version": 3
   },
   "file_extension": ".py",
   "mimetype": "text/x-python",
   "name": "python",
   "nbconvert_exporter": "python",
   "pygments_lexer": "ipython3",
   "version": "3.8.8"
  }
 },
 "nbformat": 4,
 "nbformat_minor": 1
}
