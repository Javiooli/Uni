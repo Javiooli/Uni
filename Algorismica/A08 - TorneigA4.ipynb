{
 "cells": [
  {
   "cell_type": "markdown",
   "id": "8a04311a",
   "metadata": {},
   "source": [
    "### Problema\n",
    "\n",
    "Per tenir els punts de velocitat cal entregar tots els exercicis. Al final hi ha els asserts per comprovar que la solució sigui correcta. A partir de l'explicació de l'algorisme de Fibonacci:\n",
    "\n",
    "- Implementa la solució recursiva dels nombres de Lucas. (2 punts)\n",
    "- Implementa la solució amb llista(no optimitzat) dels nombres de Lucas. (3 punts)\n",
    "- Implementa la solució amb llista(optimitzat). (2 punts)\n",
    "\n",
    "https://es.wikipedia.org/wiki/N%C3%BAmero_de_Lucas"
   ]
  },
  {
   "cell_type": "code",
   "execution_count": 21,
   "id": "58286cee",
   "metadata": {},
   "outputs": [],
   "source": [
    "def Lucas(n):\n",
    "    if n == 0:\n",
    "        return 2\n",
    "    if n == 1:\n",
    "          return 1\n",
    "    else:\n",
    "          return Lucas(n-1) + Lucas(n-2) \n",
    "\n",
    "def Lucas2(n):\n",
    "    llista = [2, 1]\n",
    "    for i in range(2, n+1):\n",
    "        llista.append(llista[i-2] + llista[i-1])\n",
    "    \n",
    "    return llista[-1]\n",
    "\n",
    "def Lucas3(n):\n",
    "    llista = [2, 1]\n",
    "    for i in range(2, n+1):\n",
    "        llista[0], llista[1] = llista[1], llista[0] + llista[1]\n",
    "    \n",
    "    return llista[-1]"
   ]
  },
  {
   "cell_type": "code",
   "execution_count": 22,
   "id": "08559bf2",
   "metadata": {},
   "outputs": [],
   "source": [
    "assert(Lucas(4)==7)\n",
    "assert(Lucas2(4)==7)\n",
    "assert(Lucas3(4)==7)\n",
    "assert(Lucas(7)==29)\n",
    "assert(Lucas2(7)==29)\n",
    "assert(Lucas3(7)==29)\n",
    "assert(Lucas(10)==123)\n",
    "assert(Lucas2(10)==123)\n",
    "assert(Lucas3(10)==123)"
   ]
  }
 ],
 "metadata": {
  "kernelspec": {
   "display_name": "Python 3",
   "language": "python",
   "name": "python3"
  },
  "language_info": {
   "codemirror_mode": {
    "name": "ipython",
    "version": 3
   },
   "file_extension": ".py",
   "mimetype": "text/x-python",
   "name": "python",
   "nbconvert_exporter": "python",
   "pygments_lexer": "ipython3",
   "version": "3.8.8"
  }
 },
 "nbformat": 4,
 "nbformat_minor": 5
}
